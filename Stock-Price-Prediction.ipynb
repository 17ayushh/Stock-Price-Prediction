{
 "cells": [
  {
   "cell_type": "code",
   "execution_count": 1,
   "id": "84f6d34e-1f6e-4de0-8041-b9d93941fb2a",
   "metadata": {},
   "outputs": [],
   "source": [
    "import pandas_datareader as pdr\n",
    "import pandas as pd"
   ]
  },
  {
   "cell_type": "code",
   "execution_count": 2,
   "id": "cc450e87-ccf0-48f5-9b00-34e55ec40834",
   "metadata": {},
   "outputs": [],
   "source": [
    "key = '7f354622d447fc52963670cf77659e1f293e1145'"
   ]
  },
  {
   "cell_type": "code",
   "execution_count": 3,
   "id": "79c57133-8e62-45b7-b17e-84a07cb25ba6",
   "metadata": {},
   "outputs": [],
   "source": [
    "df = pd.read_csv('AAPL.csv')"
   ]
  },
  {
   "cell_type": "code",
   "execution_count": 4,
   "id": "c09f6786-7b61-4bc2-bc03-20a4e6eeace1",
   "metadata": {},
   "outputs": [
    {
     "data": {
      "text/html": [
       "<div>\n",
       "<style scoped>\n",
       "    .dataframe tbody tr th:only-of-type {\n",
       "        vertical-align: middle;\n",
       "    }\n",
       "\n",
       "    .dataframe tbody tr th {\n",
       "        vertical-align: top;\n",
       "    }\n",
       "\n",
       "    .dataframe thead th {\n",
       "        text-align: right;\n",
       "    }\n",
       "</style>\n",
       "<table border=\"1\" class=\"dataframe\">\n",
       "  <thead>\n",
       "    <tr style=\"text-align: right;\">\n",
       "      <th></th>\n",
       "      <th>Unnamed: 0</th>\n",
       "      <th>symbol</th>\n",
       "      <th>date</th>\n",
       "      <th>close</th>\n",
       "      <th>high</th>\n",
       "      <th>low</th>\n",
       "      <th>open</th>\n",
       "      <th>volume</th>\n",
       "      <th>adjClose</th>\n",
       "      <th>adjHigh</th>\n",
       "      <th>adjLow</th>\n",
       "      <th>adjOpen</th>\n",
       "      <th>adjVolume</th>\n",
       "      <th>divCash</th>\n",
       "      <th>splitFactor</th>\n",
       "    </tr>\n",
       "  </thead>\n",
       "  <tbody>\n",
       "    <tr>\n",
       "      <th>0</th>\n",
       "      <td>0</td>\n",
       "      <td>AAPL</td>\n",
       "      <td>2015-05-27 00:00:00+00:00</td>\n",
       "      <td>132.045</td>\n",
       "      <td>132.260</td>\n",
       "      <td>130.05</td>\n",
       "      <td>130.34</td>\n",
       "      <td>45833246</td>\n",
       "      <td>121.682558</td>\n",
       "      <td>121.880685</td>\n",
       "      <td>119.844118</td>\n",
       "      <td>120.111360</td>\n",
       "      <td>45833246</td>\n",
       "      <td>0.0</td>\n",
       "      <td>1.0</td>\n",
       "    </tr>\n",
       "    <tr>\n",
       "      <th>1</th>\n",
       "      <td>1</td>\n",
       "      <td>AAPL</td>\n",
       "      <td>2015-05-28 00:00:00+00:00</td>\n",
       "      <td>131.780</td>\n",
       "      <td>131.950</td>\n",
       "      <td>131.10</td>\n",
       "      <td>131.86</td>\n",
       "      <td>30733309</td>\n",
       "      <td>121.438354</td>\n",
       "      <td>121.595013</td>\n",
       "      <td>120.811718</td>\n",
       "      <td>121.512076</td>\n",
       "      <td>30733309</td>\n",
       "      <td>0.0</td>\n",
       "      <td>1.0</td>\n",
       "    </tr>\n",
       "    <tr>\n",
       "      <th>2</th>\n",
       "      <td>2</td>\n",
       "      <td>AAPL</td>\n",
       "      <td>2015-05-29 00:00:00+00:00</td>\n",
       "      <td>130.280</td>\n",
       "      <td>131.450</td>\n",
       "      <td>129.90</td>\n",
       "      <td>131.23</td>\n",
       "      <td>50884452</td>\n",
       "      <td>120.056069</td>\n",
       "      <td>121.134251</td>\n",
       "      <td>119.705890</td>\n",
       "      <td>120.931516</td>\n",
       "      <td>50884452</td>\n",
       "      <td>0.0</td>\n",
       "      <td>1.0</td>\n",
       "    </tr>\n",
       "    <tr>\n",
       "      <th>3</th>\n",
       "      <td>3</td>\n",
       "      <td>AAPL</td>\n",
       "      <td>2015-06-01 00:00:00+00:00</td>\n",
       "      <td>130.535</td>\n",
       "      <td>131.390</td>\n",
       "      <td>130.05</td>\n",
       "      <td>131.20</td>\n",
       "      <td>32112797</td>\n",
       "      <td>120.291057</td>\n",
       "      <td>121.078960</td>\n",
       "      <td>119.844118</td>\n",
       "      <td>120.903870</td>\n",
       "      <td>32112797</td>\n",
       "      <td>0.0</td>\n",
       "      <td>1.0</td>\n",
       "    </tr>\n",
       "    <tr>\n",
       "      <th>4</th>\n",
       "      <td>4</td>\n",
       "      <td>AAPL</td>\n",
       "      <td>2015-06-02 00:00:00+00:00</td>\n",
       "      <td>129.960</td>\n",
       "      <td>130.655</td>\n",
       "      <td>129.32</td>\n",
       "      <td>129.86</td>\n",
       "      <td>33667627</td>\n",
       "      <td>119.761181</td>\n",
       "      <td>120.401640</td>\n",
       "      <td>119.171406</td>\n",
       "      <td>119.669029</td>\n",
       "      <td>33667627</td>\n",
       "      <td>0.0</td>\n",
       "      <td>1.0</td>\n",
       "    </tr>\n",
       "  </tbody>\n",
       "</table>\n",
       "</div>"
      ],
      "text/plain": [
       "   Unnamed: 0 symbol                       date    close     high     low  \\\n",
       "0           0   AAPL  2015-05-27 00:00:00+00:00  132.045  132.260  130.05   \n",
       "1           1   AAPL  2015-05-28 00:00:00+00:00  131.780  131.950  131.10   \n",
       "2           2   AAPL  2015-05-29 00:00:00+00:00  130.280  131.450  129.90   \n",
       "3           3   AAPL  2015-06-01 00:00:00+00:00  130.535  131.390  130.05   \n",
       "4           4   AAPL  2015-06-02 00:00:00+00:00  129.960  130.655  129.32   \n",
       "\n",
       "     open    volume    adjClose     adjHigh      adjLow     adjOpen  \\\n",
       "0  130.34  45833246  121.682558  121.880685  119.844118  120.111360   \n",
       "1  131.86  30733309  121.438354  121.595013  120.811718  121.512076   \n",
       "2  131.23  50884452  120.056069  121.134251  119.705890  120.931516   \n",
       "3  131.20  32112797  120.291057  121.078960  119.844118  120.903870   \n",
       "4  129.86  33667627  119.761181  120.401640  119.171406  119.669029   \n",
       "\n",
       "   adjVolume  divCash  splitFactor  \n",
       "0   45833246      0.0          1.0  \n",
       "1   30733309      0.0          1.0  \n",
       "2   50884452      0.0          1.0  \n",
       "3   32112797      0.0          1.0  \n",
       "4   33667627      0.0          1.0  "
      ]
     },
     "execution_count": 4,
     "metadata": {},
     "output_type": "execute_result"
    }
   ],
   "source": [
    "df.head()"
   ]
  },
  {
   "cell_type": "code",
   "execution_count": 5,
   "id": "1b9e3061-f52f-4c7a-b387-91c6c4935807",
   "metadata": {},
   "outputs": [
    {
     "data": {
      "text/html": [
       "<div>\n",
       "<style scoped>\n",
       "    .dataframe tbody tr th:only-of-type {\n",
       "        vertical-align: middle;\n",
       "    }\n",
       "\n",
       "    .dataframe tbody tr th {\n",
       "        vertical-align: top;\n",
       "    }\n",
       "\n",
       "    .dataframe thead th {\n",
       "        text-align: right;\n",
       "    }\n",
       "</style>\n",
       "<table border=\"1\" class=\"dataframe\">\n",
       "  <thead>\n",
       "    <tr style=\"text-align: right;\">\n",
       "      <th></th>\n",
       "      <th>Unnamed: 0</th>\n",
       "      <th>symbol</th>\n",
       "      <th>date</th>\n",
       "      <th>close</th>\n",
       "      <th>high</th>\n",
       "      <th>low</th>\n",
       "      <th>open</th>\n",
       "      <th>volume</th>\n",
       "      <th>adjClose</th>\n",
       "      <th>adjHigh</th>\n",
       "      <th>adjLow</th>\n",
       "      <th>adjOpen</th>\n",
       "      <th>adjVolume</th>\n",
       "      <th>divCash</th>\n",
       "      <th>splitFactor</th>\n",
       "    </tr>\n",
       "  </thead>\n",
       "  <tbody>\n",
       "    <tr>\n",
       "      <th>1253</th>\n",
       "      <td>1253</td>\n",
       "      <td>AAPL</td>\n",
       "      <td>2020-05-18 00:00:00+00:00</td>\n",
       "      <td>314.96</td>\n",
       "      <td>316.50</td>\n",
       "      <td>310.3241</td>\n",
       "      <td>313.17</td>\n",
       "      <td>33843125</td>\n",
       "      <td>314.96</td>\n",
       "      <td>316.50</td>\n",
       "      <td>310.3241</td>\n",
       "      <td>313.17</td>\n",
       "      <td>33843125</td>\n",
       "      <td>0.0</td>\n",
       "      <td>1.0</td>\n",
       "    </tr>\n",
       "    <tr>\n",
       "      <th>1254</th>\n",
       "      <td>1254</td>\n",
       "      <td>AAPL</td>\n",
       "      <td>2020-05-19 00:00:00+00:00</td>\n",
       "      <td>313.14</td>\n",
       "      <td>318.52</td>\n",
       "      <td>313.0100</td>\n",
       "      <td>315.03</td>\n",
       "      <td>25432385</td>\n",
       "      <td>313.14</td>\n",
       "      <td>318.52</td>\n",
       "      <td>313.0100</td>\n",
       "      <td>315.03</td>\n",
       "      <td>25432385</td>\n",
       "      <td>0.0</td>\n",
       "      <td>1.0</td>\n",
       "    </tr>\n",
       "    <tr>\n",
       "      <th>1255</th>\n",
       "      <td>1255</td>\n",
       "      <td>AAPL</td>\n",
       "      <td>2020-05-20 00:00:00+00:00</td>\n",
       "      <td>319.23</td>\n",
       "      <td>319.52</td>\n",
       "      <td>316.2000</td>\n",
       "      <td>316.68</td>\n",
       "      <td>27876215</td>\n",
       "      <td>319.23</td>\n",
       "      <td>319.52</td>\n",
       "      <td>316.2000</td>\n",
       "      <td>316.68</td>\n",
       "      <td>27876215</td>\n",
       "      <td>0.0</td>\n",
       "      <td>1.0</td>\n",
       "    </tr>\n",
       "    <tr>\n",
       "      <th>1256</th>\n",
       "      <td>1256</td>\n",
       "      <td>AAPL</td>\n",
       "      <td>2020-05-21 00:00:00+00:00</td>\n",
       "      <td>316.85</td>\n",
       "      <td>320.89</td>\n",
       "      <td>315.8700</td>\n",
       "      <td>318.66</td>\n",
       "      <td>25672211</td>\n",
       "      <td>316.85</td>\n",
       "      <td>320.89</td>\n",
       "      <td>315.8700</td>\n",
       "      <td>318.66</td>\n",
       "      <td>25672211</td>\n",
       "      <td>0.0</td>\n",
       "      <td>1.0</td>\n",
       "    </tr>\n",
       "    <tr>\n",
       "      <th>1257</th>\n",
       "      <td>1257</td>\n",
       "      <td>AAPL</td>\n",
       "      <td>2020-05-22 00:00:00+00:00</td>\n",
       "      <td>318.89</td>\n",
       "      <td>319.23</td>\n",
       "      <td>315.3500</td>\n",
       "      <td>315.77</td>\n",
       "      <td>20450754</td>\n",
       "      <td>318.89</td>\n",
       "      <td>319.23</td>\n",
       "      <td>315.3500</td>\n",
       "      <td>315.77</td>\n",
       "      <td>20450754</td>\n",
       "      <td>0.0</td>\n",
       "      <td>1.0</td>\n",
       "    </tr>\n",
       "  </tbody>\n",
       "</table>\n",
       "</div>"
      ],
      "text/plain": [
       "      Unnamed: 0 symbol                       date   close    high       low  \\\n",
       "1253        1253   AAPL  2020-05-18 00:00:00+00:00  314.96  316.50  310.3241   \n",
       "1254        1254   AAPL  2020-05-19 00:00:00+00:00  313.14  318.52  313.0100   \n",
       "1255        1255   AAPL  2020-05-20 00:00:00+00:00  319.23  319.52  316.2000   \n",
       "1256        1256   AAPL  2020-05-21 00:00:00+00:00  316.85  320.89  315.8700   \n",
       "1257        1257   AAPL  2020-05-22 00:00:00+00:00  318.89  319.23  315.3500   \n",
       "\n",
       "        open    volume  adjClose  adjHigh    adjLow  adjOpen  adjVolume  \\\n",
       "1253  313.17  33843125    314.96   316.50  310.3241   313.17   33843125   \n",
       "1254  315.03  25432385    313.14   318.52  313.0100   315.03   25432385   \n",
       "1255  316.68  27876215    319.23   319.52  316.2000   316.68   27876215   \n",
       "1256  318.66  25672211    316.85   320.89  315.8700   318.66   25672211   \n",
       "1257  315.77  20450754    318.89   319.23  315.3500   315.77   20450754   \n",
       "\n",
       "      divCash  splitFactor  \n",
       "1253      0.0          1.0  \n",
       "1254      0.0          1.0  \n",
       "1255      0.0          1.0  \n",
       "1256      0.0          1.0  \n",
       "1257      0.0          1.0  "
      ]
     },
     "execution_count": 5,
     "metadata": {},
     "output_type": "execute_result"
    }
   ],
   "source": [
    "df.tail()"
   ]
  },
  {
   "cell_type": "code",
   "execution_count": 6,
   "id": "85ac1494-b3fa-460b-9cb6-14f6197db78f",
   "metadata": {},
   "outputs": [],
   "source": [
    "df1 = df.reset_index()['close']"
   ]
  },
  {
   "cell_type": "code",
   "execution_count": 7,
   "id": "629fc141-e9fd-42f8-8979-427f5f0f0be8",
   "metadata": {},
   "outputs": [
    {
     "data": {
      "text/plain": [
       "0    132.045\n",
       "1    131.780\n",
       "2    130.280\n",
       "3    130.535\n",
       "4    129.960\n",
       "Name: close, dtype: float64"
      ]
     },
     "execution_count": 7,
     "metadata": {},
     "output_type": "execute_result"
    }
   ],
   "source": [
    "df1.head()"
   ]
  },
  {
   "cell_type": "code",
   "execution_count": 8,
   "id": "0e241e65-70c1-41dd-be2f-a520cc4a3390",
   "metadata": {},
   "outputs": [
    {
     "data": {
      "text/plain": [
       "[<matplotlib.lines.Line2D at 0x1324673b0>]"
      ]
     },
     "execution_count": 8,
     "metadata": {},
     "output_type": "execute_result"
    },
    {
     "data": {
      "image/png": "[encoded data removed]",
      "text/plain": [
       "<Figure size 640x480 with 1 Axes>"
      ]
     },
     "metadata": {},
     "output_type": "display_data"
    }
   ],
   "source": [
    "import matplotlib.pyplot as plt\n",
    "plt.plot(df1)"
   ]
  },
  {
   "cell_type": "code",
   "execution_count": 19,
   "id": "5f7d968f-6b22-4fec-8ac7-51efdaa27745",
   "metadata": {},
   "outputs": [],
   "source": [
    "from sklearn.preprocessing import MinMaxScaler\n",
    "import numpy as np"
   ]
  },
  {
   "cell_type": "code",
   "execution_count": 10,
   "id": "63d37f0e-c75a-4041-8618-83264a0a724a",
   "metadata": {},
   "outputs": [],
   "source": [
    "scaler = MinMaxScaler(feature_range=(0,1))\n",
    "df1 = scaler.fit_transform(np.array(df1).reshape(-1,1)) #because df1 is an series so to convert to 2D"
   ]
  },
  {
   "cell_type": "code",
   "execution_count": 11,
   "id": "0b33b528-f133-460d-b428-9e2a79712116",
   "metadata": {},
   "outputs": [
    {
     "data": {
      "text/plain": [
       "numpy.ndarray"
      ]
     },
     "execution_count": 11,
     "metadata": {},
     "output_type": "execute_result"
    }
   ],
   "source": [
    "type(df1)"
   ]
  },
  {
   "cell_type": "code",
   "execution_count": 12,
   "id": "6f1c0c95-a9dd-46bd-b427-fcd49cac12f8",
   "metadata": {},
   "outputs": [
    {
     "data": {
      "text/plain": [
       "(1258, 1)"
      ]
     },
     "execution_count": 12,
     "metadata": {},
     "output_type": "execute_result"
    }
   ],
   "source": [
    "df1.shape"
   ]
  },
  {
   "cell_type": "code",
   "execution_count": 13,
   "id": "0efbfbfb-f181-414f-920b-dbdd2af6aeb8",
   "metadata": {},
   "outputs": [],
   "source": [
    "training_size = int(len(df1)*0.65)\n",
    "testing_size = df1-training_size\n",
    "train_data , test_data = df1[0:training_size,:],df1[training_size:len(df1),:1]"
   ]
  },
  {
   "cell_type": "code",
   "execution_count": 14,
   "id": "bc962a1d-8c6d-4a9e-88d1-7df918708448",
   "metadata": {},
   "outputs": [
    {
     "name": "stdout",
     "output_type": "stream",
     "text": [
      "817 441\n"
     ]
    }
   ],
   "source": [
    "print(len(train_data) , len(test_data))"
   ]
  },
  {
   "cell_type": "code",
   "execution_count": 21,
   "id": "8cb4664f-0848-488a-9867-8fe27878ae94",
   "metadata": {},
   "outputs": [],
   "source": [
    "# convert an array of values into a dataset matrix\n",
    "def create_dataset(dataset, time_step=1):\n",
    "\tdataX, dataY = [], []\n",
    "\tfor i in range(len(dataset)-time_step-1):\n",
    "\t\ta = dataset[i:(i+time_step), 0]   ###i=0, 0,1,2,3-----99   100 \n",
    "\t\tdataX.append(a)\n",
    "\t\tdataY.append(dataset[i + time_step, 0])\n",
    "\treturn np.array(dataX), np.array(dataY)"
   ]
  },
  {
   "cell_type": "code",
   "execution_count": 23,
   "id": "39e5b265-4d82-4322-b23d-bdb4924ed7e7",
   "metadata": {},
   "outputs": [],
   "source": [
    "time_step=100\n",
    "X_train,y_train = create_dataset(train_data,time_step)\n",
    "X_test,y_test = create_dataset(test_data,time_step)"
   ]
  },
  {
   "cell_type": "code",
   "execution_count": 25,
   "id": "5029e313-bcbb-4894-83b5-66ab27f4d63e",
   "metadata": {},
   "outputs": [
    {
     "name": "stdout",
     "output_type": "stream",
     "text": [
      "[[0.17607447 0.17495567 0.16862282 ... 0.09055982 0.08388922 0.09085536]\n",
      " [0.17495567 0.16862282 0.1696994  ... 0.08388922 0.09085536 0.0873934 ]\n",
      " [0.16862282 0.1696994  0.16727181 ... 0.09085536 0.0873934  0.09030651]\n",
      " ...\n",
      " [0.34801148 0.32930845 0.32145571 ... 0.50042219 0.50413747 0.5062062 ]\n",
      " [0.32930845 0.32145571 0.32694419 ... 0.50413747 0.5062062  0.51920966]\n",
      " [0.32145571 0.32694419 0.32230009 ... 0.5062062  0.51920966 0.53719497]]\n"
     ]
    }
   ],
   "source": [
    "print(X_train)"
   ]
  },
  {
   "cell_type": "code",
   "execution_count": 29,
   "id": "94897a90-f6ff-4374-b54d-c6300ada1393",
   "metadata": {},
   "outputs": [],
   "source": [
    "#As we have to insert data into LSTM so that we need 3d input\n",
    "X_train = X_train.reshape(X_train.shape[0],X_train.shape[1],1)\n",
    "X_test = X_test.reshape(X_test.shape[0],X_test.shape[1],1)"
   ]
  },
  {
   "cell_type": "code",
   "execution_count": 39,
   "id": "09eeaec8-0ed8-4b28-be20-eb634911eb1c",
   "metadata": {},
   "outputs": [],
   "source": [
    "from tensorflow.keras import Sequential\n",
    "from tensorflow.keras.layers import Dense,LSTM"
   ]
  },
  {
   "cell_type": "code",
   "execution_count": 41,
   "id": "09185aec-07e7-4b72-9544-3b521a4c46c1",
   "metadata": {},
   "outputs": [
    {
     "data": {
      "text/plain": [
       "(716, 100, 1)"
      ]
     },
     "execution_count": 41,
     "metadata": {},
     "output_type": "execute_result"
    }
   ],
   "source": [
    "X_train.shape"
   ]
  },
  {
   "cell_type": "code",
   "execution_count": 43,
   "id": "a81329cf-4254-44af-9c50-cb5974f14a40",
   "metadata": {},
   "outputs": [
    {
     "name": "stderr",
     "output_type": "stream",
     "text": [
      "/opt/anaconda3/lib/python3.12/site-packages/keras/src/layers/rnn/rnn.py:199: UserWarning: Do not pass an `input_shape`/`input_dim` argument to a layer. When using Sequential models, prefer using an `Input(shape)` object as the first layer in the model instead.\n",
      "  super().__init__(**kwargs)\n"
     ]
    }
   ],
   "source": [
    "model = Sequential()\n",
    "\n",
    "model.add(LSTM(50,return_sequences=True,input_shape=(100,1)))\n",
    "model.add(LSTM(50,return_sequences=True))\n",
    "model.add(LSTM(50))\n",
    "model.add(Dense(1))"
   ]
  },
  {
   "cell_type": "code",
   "execution_count": 45,
   "id": "53b2c603-3e53-4336-8d05-37f3337919cc",
   "metadata": {},
   "outputs": [],
   "source": [
    "model.compile(loss='mean_squared_error',optimizer='adam')"
   ]
  },
  {
   "cell_type": "code",
   "execution_count": 47,
   "id": "d030f942-f0e8-4497-b9fc-948a46ccfc8b",
   "metadata": {},
   "outputs": [
    {
     "data": {
      "text/html": [
       "<pre style=\"white-space:pre;overflow-x:auto;line-height:normal;font-family:Menlo,'DejaVu Sans Mono',consolas,'Courier New',monospace\"><span style=\"font-weight: bold\">Model: \"sequential\"</span>\n",
       "</pre>\n"
      ],
      "text/plain": [
       "\u001b[1mModel: \"sequential\"\u001b[0m\n"
      ]
     },
     "metadata": {},
     "output_type": "display_data"
    },
    {
     "data": {
      "text/html": [
       "<pre style=\"white-space:pre;overflow-x:auto;line-height:normal;font-family:Menlo,'DejaVu Sans Mono',consolas,'Courier New',monospace\">┏━━━━━━━━━━━━━━━━━━━━━━━━━━━━━━━━━┳━━━━━━━━━━━━━━━━━━━━━━━━┳━━━━━━━━━━━━━━━┓\n",
       "┃<span style=\"font-weight: bold\"> Layer (type)                    </span>┃<span style=\"font-weight: bold\"> Output Shape           </span>┃<span style=\"font-weight: bold\">       Param # </span>┃\n",
       "┡━━━━━━━━━━━━━━━━━━━━━━━━━━━━━━━━━╇━━━━━━━━━━━━━━━━━━━━━━━━╇━━━━━━━━━━━━━━━┩\n",
       "│ lstm (<span style=\"color: #0087ff; text-decoration-color: #0087ff\">LSTM</span>)                     │ (<span style=\"color: #00d7ff; text-decoration-color: #00d7ff\">None</span>, <span style=\"color: #00af00; text-decoration-color: #00af00\">100</span>, <span style=\"color: #00af00; text-decoration-color: #00af00\">50</span>)        │        <span style=\"color: #00af00; text-decoration-color: #00af00\">10,400</span> │\n",
       "├─────────────────────────────────┼────────────────────────┼───────────────┤\n",
       "│ lstm_1 (<span style=\"color: #0087ff; text-decoration-color: #0087ff\">LSTM</span>)                   │ (<span style=\"color: #00d7ff; text-decoration-color: #00d7ff\">None</span>, <span style=\"color: #00af00; text-decoration-color: #00af00\">100</span>, <span style=\"color: #00af00; text-decoration-color: #00af00\">50</span>)        │        <span style=\"color: #00af00; text-decoration-color: #00af00\">20,200</span> │\n",
       "├─────────────────────────────────┼────────────────────────┼───────────────┤\n",
       "│ lstm_2 (<span style=\"color: #0087ff; text-decoration-color: #0087ff\">LSTM</span>)                   │ (<span style=\"color: #00d7ff; text-decoration-color: #00d7ff\">None</span>, <span style=\"color: #00af00; text-decoration-color: #00af00\">50</span>)             │        <span style=\"color: #00af00; text-decoration-color: #00af00\">20,200</span> │\n",
       "├─────────────────────────────────┼────────────────────────┼───────────────┤\n",
       "│ dense (<span style=\"color: #0087ff; text-decoration-color: #0087ff\">Dense</span>)                   │ (<span style=\"color: #00d7ff; text-decoration-color: #00d7ff\">None</span>, <span style=\"color: #00af00; text-decoration-color: #00af00\">1</span>)              │            <span style=\"color: #00af00; text-decoration-color: #00af00\">51</span> │\n",
       "└─────────────────────────────────┴────────────────────────┴───────────────┘\n",
       "</pre>\n"
      ],
      "text/plain": [
       "┏━━━━━━━━━━━━━━━━━━━━━━━━━━━━━━━━━┳━━━━━━━━━━━━━━━━━━━━━━━━┳━━━━━━━━━━━━━━━┓\n",
       "┃\u001b[1m \u001b[0m\u001b[1mLayer (type)                   \u001b[0m\u001b[1m \u001b[0m┃\u001b[1m \u001b[0m\u001b[1mOutput Shape          \u001b[0m\u001b[1m \u001b[0m┃\u001b[1m \u001b[0m\u001b[1m      Param #\u001b[0m\u001b[1m \u001b[0m┃\n",
       "┡━━━━━━━━━━━━━━━━━━━━━━━━━━━━━━━━━╇━━━━━━━━━━━━━━━━━━━━━━━━╇━━━━━━━━━━━━━━━┩\n",
       "│ lstm (\u001b[38;5;33mLSTM\u001b[0m)                     │ (\u001b[38;5;45mNone\u001b[0m, \u001b[38;5;34m100\u001b[0m, \u001b[38;5;34m50\u001b[0m)        │        \u001b[38;5;34m10,400\u001b[0m │\n",
       "├─────────────────────────────────┼────────────────────────┼───────────────┤\n",
       "│ lstm_1 (\u001b[38;5;33mLSTM\u001b[0m)                   │ (\u001b[38;5;45mNone\u001b[0m, \u001b[38;5;34m100\u001b[0m, \u001b[38;5;34m50\u001b[0m)        │        \u001b[38;5;34m20,200\u001b[0m │\n",
       "├─────────────────────────────────┼────────────────────────┼───────────────┤\n",
       "│ lstm_2 (\u001b[38;5;33mLSTM\u001b[0m)                   │ (\u001b[38;5;45mNone\u001b[0m, \u001b[38;5;34m50\u001b[0m)             │        \u001b[38;5;34m20,200\u001b[0m │\n",
       "├─────────────────────────────────┼────────────────────────┼───────────────┤\n",
       "│ dense (\u001b[38;5;33mDense\u001b[0m)                   │ (\u001b[38;5;45mNone\u001b[0m, \u001b[38;5;34m1\u001b[0m)              │            \u001b[38;5;34m51\u001b[0m │\n",
       "└─────────────────────────────────┴────────────────────────┴───────────────┘\n"
      ]
     },
     "metadata": {},
     "output_type": "display_data"
    },
    {
     "data": {
      "text/html": [
       "<pre style=\"white-space:pre;overflow-x:auto;line-height:normal;font-family:Menlo,'DejaVu Sans Mono',consolas,'Courier New',monospace\"><span style=\"font-weight: bold\"> Total params: </span><span style=\"color: #00af00; text-decoration-color: #00af00\">50,851</span> (198.64 KB)\n",
       "</pre>\n"
      ],
      "text/plain": [
       "\u001b[1m Total params: \u001b[0m\u001b[38;5;34m50,851\u001b[0m (198.64 KB)\n"
      ]
     },
     "metadata": {},
     "output_type": "display_data"
    },
    {
     "data": {
      "text/html": [
       "<pre style=\"white-space:pre;overflow-x:auto;line-height:normal;font-family:Menlo,'DejaVu Sans Mono',consolas,'Courier New',monospace\"><span style=\"font-weight: bold\"> Trainable params: </span><span style=\"color: #00af00; text-decoration-color: #00af00\">50,851</span> (198.64 KB)\n",
       "</pre>\n"
      ],
      "text/plain": [
       "\u001b[1m Trainable params: \u001b[0m\u001b[38;5;34m50,851\u001b[0m (198.64 KB)\n"
      ]
     },
     "metadata": {},
     "output_type": "display_data"
    },
    {
     "data": {
      "text/html": [
       "<pre style=\"white-space:pre;overflow-x:auto;line-height:normal;font-family:Menlo,'DejaVu Sans Mono',consolas,'Courier New',monospace\"><span style=\"font-weight: bold\"> Non-trainable params: </span><span style=\"color: #00af00; text-decoration-color: #00af00\">0</span> (0.00 B)\n",
       "</pre>\n"
      ],
      "text/plain": [
       "\u001b[1m Non-trainable params: \u001b[0m\u001b[38;5;34m0\u001b[0m (0.00 B)\n"
      ]
     },
     "metadata": {},
     "output_type": "display_data"
    }
   ],
   "source": [
    "model.summary()"
   ]
  },
  {
   "cell_type": "code",
   "execution_count": 49,
   "id": "f10cc407-cb9f-4b43-a997-387a42693038",
   "metadata": {},
   "outputs": [
    {
     "name": "stdout",
     "output_type": "stream",
     "text": [
      "Epoch 1/100\n",
      "\u001b[1m12/12\u001b[0m \u001b[32m━━━━━━━━━━━━━━━━━━━━\u001b[0m\u001b[37m\u001b[0m \u001b[1m2s\u001b[0m 94ms/step - loss: 0.0373 - val_loss: 0.0484\n",
      "Epoch 2/100\n",
      "\u001b[1m12/12\u001b[0m \u001b[32m━━━━━━━━━━━━━━━━━━━━\u001b[0m\u001b[37m\u001b[0m \u001b[1m1s\u001b[0m 80ms/step - loss: 0.0051 - val_loss: 0.0056\n",
      "Epoch 3/100\n",
      "\u001b[1m12/12\u001b[0m \u001b[32m━━━━━━━━━━━━━━━━━━━━\u001b[0m\u001b[37m\u001b[0m \u001b[1m1s\u001b[0m 79ms/step - loss: 0.0016 - val_loss: 0.0137\n",
      "Epoch 4/100\n",
      "\u001b[1m12/12\u001b[0m \u001b[32m━━━━━━━━━━━━━━━━━━━━\u001b[0m\u001b[37m\u001b[0m \u001b[1m1s\u001b[0m 85ms/step - loss: 9.4144e-04 - val_loss: 0.0038\n",
      "Epoch 5/100\n",
      "\u001b[1m12/12\u001b[0m \u001b[32m━━━━━━━━━━━━━━━━━━━━\u001b[0m\u001b[37m\u001b[0m \u001b[1m1s\u001b[0m 86ms/step - loss: 6.0318e-04 - val_loss: 0.0036\n",
      "Epoch 6/100\n",
      "\u001b[1m12/12\u001b[0m \u001b[32m━━━━━━━━━━━━━━━━━━━━\u001b[0m\u001b[37m\u001b[0m \u001b[1m1s\u001b[0m 82ms/step - loss: 5.3637e-04 - val_loss: 0.0037\n",
      "Epoch 7/100\n",
      "\u001b[1m12/12\u001b[0m \u001b[32m━━━━━━━━━━━━━━━━━━━━\u001b[0m\u001b[37m\u001b[0m \u001b[1m1s\u001b[0m 86ms/step - loss: 6.1534e-04 - val_loss: 0.0035\n",
      "Epoch 8/100\n",
      "\u001b[1m12/12\u001b[0m \u001b[32m━━━━━━━━━━━━━━━━━━━━\u001b[0m\u001b[37m\u001b[0m \u001b[1m1s\u001b[0m 83ms/step - loss: 5.7690e-04 - val_loss: 0.0034\n",
      "Epoch 9/100\n",
      "\u001b[1m12/12\u001b[0m \u001b[32m━━━━━━━━━━━━━━━━━━━━\u001b[0m\u001b[37m\u001b[0m \u001b[1m1s\u001b[0m 90ms/step - loss: 5.7983e-04 - val_loss: 0.0033\n",
      "Epoch 10/100\n",
      "\u001b[1m12/12\u001b[0m \u001b[32m━━━━━━━━━━━━━━━━━━━━\u001b[0m\u001b[37m\u001b[0m \u001b[1m1s\u001b[0m 87ms/step - loss: 5.9535e-04 - val_loss: 0.0033\n",
      "Epoch 11/100\n",
      "\u001b[1m12/12\u001b[0m \u001b[32m━━━━━━━━━━━━━━━━━━━━\u001b[0m\u001b[37m\u001b[0m \u001b[1m1s\u001b[0m 84ms/step - loss: 5.6289e-04 - val_loss: 0.0031\n",
      "Epoch 12/100\n",
      "\u001b[1m12/12\u001b[0m \u001b[32m━━━━━━━━━━━━━━━━━━━━\u001b[0m\u001b[37m\u001b[0m \u001b[1m1s\u001b[0m 79ms/step - loss: 6.1255e-04 - val_loss: 0.0034\n",
      "Epoch 13/100\n",
      "\u001b[1m12/12\u001b[0m \u001b[32m━━━━━━━━━━━━━━━━━━━━\u001b[0m\u001b[37m\u001b[0m \u001b[1m1s\u001b[0m 95ms/step - loss: 5.6974e-04 - val_loss: 0.0038\n",
      "Epoch 14/100\n",
      "\u001b[1m12/12\u001b[0m \u001b[32m━━━━━━━━━━━━━━━━━━━━\u001b[0m\u001b[37m\u001b[0m \u001b[1m1s\u001b[0m 82ms/step - loss: 5.2553e-04 - val_loss: 0.0029\n",
      "Epoch 15/100\n",
      "\u001b[1m12/12\u001b[0m \u001b[32m━━━━━━━━━━━━━━━━━━━━\u001b[0m\u001b[37m\u001b[0m \u001b[1m1s\u001b[0m 81ms/step - loss: 5.3444e-04 - val_loss: 0.0030\n",
      "Epoch 16/100\n",
      "\u001b[1m12/12\u001b[0m \u001b[32m━━━━━━━━━━━━━━━━━━━━\u001b[0m\u001b[37m\u001b[0m \u001b[1m1s\u001b[0m 79ms/step - loss: 5.5189e-04 - val_loss: 0.0033\n",
      "Epoch 17/100\n",
      "\u001b[1m12/12\u001b[0m \u001b[32m━━━━━━━━━━━━━━━━━━━━\u001b[0m\u001b[37m\u001b[0m \u001b[1m1s\u001b[0m 84ms/step - loss: 5.6247e-04 - val_loss: 0.0033\n",
      "Epoch 18/100\n",
      "\u001b[1m12/12\u001b[0m \u001b[32m━━━━━━━━━━━━━━━━━━━━\u001b[0m\u001b[37m\u001b[0m \u001b[1m1s\u001b[0m 79ms/step - loss: 5.6458e-04 - val_loss: 0.0027\n",
      "Epoch 19/100\n",
      "\u001b[1m12/12\u001b[0m \u001b[32m━━━━━━━━━━━━━━━━━━━━\u001b[0m\u001b[37m\u001b[0m \u001b[1m1s\u001b[0m 85ms/step - loss: 5.1648e-04 - val_loss: 0.0026\n",
      "Epoch 20/100\n",
      "\u001b[1m12/12\u001b[0m \u001b[32m━━━━━━━━━━━━━━━━━━━━\u001b[0m\u001b[37m\u001b[0m \u001b[1m1s\u001b[0m 89ms/step - loss: 4.8357e-04 - val_loss: 0.0028\n",
      "Epoch 21/100\n",
      "\u001b[1m12/12\u001b[0m \u001b[32m━━━━━━━━━━━━━━━━━━━━\u001b[0m\u001b[37m\u001b[0m \u001b[1m1s\u001b[0m 101ms/step - loss: 5.5118e-04 - val_loss: 0.0029\n",
      "Epoch 22/100\n",
      "\u001b[1m12/12\u001b[0m \u001b[32m━━━━━━━━━━━━━━━━━━━━\u001b[0m\u001b[37m\u001b[0m \u001b[1m1s\u001b[0m 110ms/step - loss: 4.9209e-04 - val_loss: 0.0027\n",
      "Epoch 23/100\n",
      "\u001b[1m12/12\u001b[0m \u001b[32m━━━━━━━━━━━━━━━━━━━━\u001b[0m\u001b[37m\u001b[0m \u001b[1m1s\u001b[0m 117ms/step - loss: 5.7811e-04 - val_loss: 0.0021\n",
      "Epoch 24/100\n",
      "\u001b[1m12/12\u001b[0m \u001b[32m━━━━━━━━━━━━━━━━━━━━\u001b[0m\u001b[37m\u001b[0m \u001b[1m1s\u001b[0m 93ms/step - loss: 4.5357e-04 - val_loss: 0.0029\n",
      "Epoch 25/100\n",
      "\u001b[1m12/12\u001b[0m \u001b[32m━━━━━━━━━━━━━━━━━━━━\u001b[0m\u001b[37m\u001b[0m \u001b[1m1s\u001b[0m 95ms/step - loss: 5.1302e-04 - val_loss: 0.0020\n",
      "Epoch 26/100\n",
      "\u001b[1m12/12\u001b[0m \u001b[32m━━━━━━━━━━━━━━━━━━━━\u001b[0m\u001b[37m\u001b[0m \u001b[1m1s\u001b[0m 97ms/step - loss: 4.7071e-04 - val_loss: 0.0020\n",
      "Epoch 27/100\n",
      "\u001b[1m12/12\u001b[0m \u001b[32m━━━━━━━━━━━━━━━━━━━━\u001b[0m\u001b[37m\u001b[0m \u001b[1m1s\u001b[0m 105ms/step - loss: 4.7418e-04 - val_loss: 0.0025\n",
      "Epoch 28/100\n",
      "\u001b[1m12/12\u001b[0m \u001b[32m━━━━━━━━━━━━━━━━━━━━\u001b[0m\u001b[37m\u001b[0m \u001b[1m1s\u001b[0m 91ms/step - loss: 4.6057e-04 - val_loss: 0.0019\n",
      "Epoch 29/100\n",
      "\u001b[1m12/12\u001b[0m \u001b[32m━━━━━━━━━━━━━━━━━━━━\u001b[0m\u001b[37m\u001b[0m \u001b[1m1s\u001b[0m 95ms/step - loss: 3.7963e-04 - val_loss: 0.0019\n",
      "Epoch 30/100\n",
      "\u001b[1m12/12\u001b[0m \u001b[32m━━━━━━━━━━━━━━━━━━━━\u001b[0m\u001b[37m\u001b[0m \u001b[1m1s\u001b[0m 89ms/step - loss: 3.8652e-04 - val_loss: 0.0018\n",
      "Epoch 31/100\n",
      "\u001b[1m12/12\u001b[0m \u001b[32m━━━━━━━━━━━━━━━━━━━━\u001b[0m\u001b[37m\u001b[0m \u001b[1m1s\u001b[0m 92ms/step - loss: 3.5864e-04 - val_loss: 0.0017\n",
      "Epoch 32/100\n",
      "\u001b[1m12/12\u001b[0m \u001b[32m━━━━━━━━━━━━━━━━━━━━\u001b[0m\u001b[37m\u001b[0m \u001b[1m1s\u001b[0m 98ms/step - loss: 4.3815e-04 - val_loss: 0.0017\n",
      "Epoch 33/100\n",
      "\u001b[1m12/12\u001b[0m \u001b[32m━━━━━━━━━━━━━━━━━━━━\u001b[0m\u001b[37m\u001b[0m \u001b[1m1s\u001b[0m 101ms/step - loss: 4.5604e-04 - val_loss: 0.0023\n",
      "Epoch 34/100\n",
      "\u001b[1m12/12\u001b[0m \u001b[32m━━━━━━━━━━━━━━━━━━━━\u001b[0m\u001b[37m\u001b[0m \u001b[1m1s\u001b[0m 105ms/step - loss: 4.2173e-04 - val_loss: 0.0016\n",
      "Epoch 35/100\n",
      "\u001b[1m12/12\u001b[0m \u001b[32m━━━━━━━━━━━━━━━━━━━━\u001b[0m\u001b[37m\u001b[0m \u001b[1m1s\u001b[0m 95ms/step - loss: 3.6626e-04 - val_loss: 0.0016\n",
      "Epoch 36/100\n",
      "\u001b[1m12/12\u001b[0m \u001b[32m━━━━━━━━━━━━━━━━━━━━\u001b[0m\u001b[37m\u001b[0m \u001b[1m1s\u001b[0m 111ms/step - loss: 3.4746e-04 - val_loss: 0.0016\n",
      "Epoch 37/100\n",
      "\u001b[1m12/12\u001b[0m \u001b[32m━━━━━━━━━━━━━━━━━━━━\u001b[0m\u001b[37m\u001b[0m \u001b[1m1s\u001b[0m 111ms/step - loss: 3.7112e-04 - val_loss: 0.0019\n",
      "Epoch 38/100\n",
      "\u001b[1m12/12\u001b[0m \u001b[32m━━━━━━━━━━━━━━━━━━━━\u001b[0m\u001b[37m\u001b[0m \u001b[1m1s\u001b[0m 101ms/step - loss: 3.4034e-04 - val_loss: 0.0021\n",
      "Epoch 39/100\n",
      "\u001b[1m12/12\u001b[0m \u001b[32m━━━━━━━━━━━━━━━━━━━━\u001b[0m\u001b[37m\u001b[0m \u001b[1m1s\u001b[0m 92ms/step - loss: 3.5863e-04 - val_loss: 0.0015\n",
      "Epoch 40/100\n",
      "\u001b[1m12/12\u001b[0m \u001b[32m━━━━━━━━━━━━━━━━━━━━\u001b[0m\u001b[37m\u001b[0m \u001b[1m1s\u001b[0m 97ms/step - loss: 3.5325e-04 - val_loss: 0.0016\n",
      "Epoch 41/100\n",
      "\u001b[1m12/12\u001b[0m \u001b[32m━━━━━━━━━━━━━━━━━━━━\u001b[0m\u001b[37m\u001b[0m \u001b[1m1s\u001b[0m 108ms/step - loss: 3.6542e-04 - val_loss: 0.0016\n",
      "Epoch 42/100\n",
      "\u001b[1m12/12\u001b[0m \u001b[32m━━━━━━━━━━━━━━━━━━━━\u001b[0m\u001b[37m\u001b[0m \u001b[1m1s\u001b[0m 107ms/step - loss: 3.4979e-04 - val_loss: 0.0018\n",
      "Epoch 43/100\n",
      "\u001b[1m12/12\u001b[0m \u001b[32m━━━━━━━━━━━━━━━━━━━━\u001b[0m\u001b[37m\u001b[0m \u001b[1m1s\u001b[0m 109ms/step - loss: 3.0485e-04 - val_loss: 0.0014\n",
      "Epoch 44/100\n",
      "\u001b[1m12/12\u001b[0m \u001b[32m━━━━━━━━━━━━━━━━━━━━\u001b[0m\u001b[37m\u001b[0m \u001b[1m1s\u001b[0m 111ms/step - loss: 3.1970e-04 - val_loss: 0.0015\n",
      "Epoch 45/100\n",
      "\u001b[1m12/12\u001b[0m \u001b[32m━━━━━━━━━━━━━━━━━━━━\u001b[0m\u001b[37m\u001b[0m \u001b[1m1s\u001b[0m 96ms/step - loss: 3.3717e-04 - val_loss: 0.0015\n",
      "Epoch 46/100\n",
      "\u001b[1m12/12\u001b[0m \u001b[32m━━━━━━━━━━━━━━━━━━━━\u001b[0m\u001b[37m\u001b[0m \u001b[1m1s\u001b[0m 102ms/step - loss: 3.3614e-04 - val_loss: 0.0014\n",
      "Epoch 47/100\n",
      "\u001b[1m12/12\u001b[0m \u001b[32m━━━━━━━━━━━━━━━━━━━━\u001b[0m\u001b[37m\u001b[0m \u001b[1m1s\u001b[0m 116ms/step - loss: 3.2772e-04 - val_loss: 0.0016\n",
      "Epoch 48/100\n",
      "\u001b[1m12/12\u001b[0m \u001b[32m━━━━━━━━━━━━━━━━━━━━\u001b[0m\u001b[37m\u001b[0m \u001b[1m1s\u001b[0m 116ms/step - loss: 3.1416e-04 - val_loss: 0.0014\n",
      "Epoch 49/100\n",
      "\u001b[1m12/12\u001b[0m \u001b[32m━━━━━━━━━━━━━━━━━━━━\u001b[0m\u001b[37m\u001b[0m \u001b[1m1s\u001b[0m 120ms/step - loss: 3.0710e-04 - val_loss: 0.0014\n",
      "Epoch 50/100\n",
      "\u001b[1m12/12\u001b[0m \u001b[32m━━━━━━━━━━━━━━━━━━━━\u001b[0m\u001b[37m\u001b[0m \u001b[1m1s\u001b[0m 111ms/step - loss: 3.1631e-04 - val_loss: 0.0016\n",
      "Epoch 51/100\n",
      "\u001b[1m12/12\u001b[0m \u001b[32m━━━━━━━━━━━━━━━━━━━━\u001b[0m\u001b[37m\u001b[0m \u001b[1m1s\u001b[0m 118ms/step - loss: 2.9826e-04 - val_loss: 0.0018\n",
      "Epoch 52/100\n",
      "\u001b[1m12/12\u001b[0m \u001b[32m━━━━━━━━━━━━━━━━━━━━\u001b[0m\u001b[37m\u001b[0m \u001b[1m2s\u001b[0m 139ms/step - loss: 2.8883e-04 - val_loss: 0.0015\n",
      "Epoch 53/100\n",
      "\u001b[1m12/12\u001b[0m \u001b[32m━━━━━━━━━━━━━━━━━━━━\u001b[0m\u001b[37m\u001b[0m \u001b[1m1s\u001b[0m 120ms/step - loss: 3.5731e-04 - val_loss: 0.0021\n",
      "Epoch 54/100\n",
      "\u001b[1m12/12\u001b[0m \u001b[32m━━━━━━━━━━━━━━━━━━━━\u001b[0m\u001b[37m\u001b[0m \u001b[1m1s\u001b[0m 114ms/step - loss: 3.2795e-04 - val_loss: 0.0014\n",
      "Epoch 55/100\n",
      "\u001b[1m12/12\u001b[0m \u001b[32m━━━━━━━━━━━━━━━━━━━━\u001b[0m\u001b[37m\u001b[0m \u001b[1m1s\u001b[0m 115ms/step - loss: 2.8799e-04 - val_loss: 0.0020\n",
      "Epoch 56/100\n",
      "\u001b[1m12/12\u001b[0m \u001b[32m━━━━━━━━━━━━━━━━━━━━\u001b[0m\u001b[37m\u001b[0m \u001b[1m1s\u001b[0m 113ms/step - loss: 2.9974e-04 - val_loss: 0.0015\n",
      "Epoch 57/100\n",
      "\u001b[1m12/12\u001b[0m \u001b[32m━━━━━━━━━━━━━━━━━━━━\u001b[0m\u001b[37m\u001b[0m \u001b[1m2s\u001b[0m 134ms/step - loss: 2.8071e-04 - val_loss: 0.0021\n",
      "Epoch 58/100\n",
      "\u001b[1m12/12\u001b[0m \u001b[32m━━━━━━━━━━━━━━━━━━━━\u001b[0m\u001b[37m\u001b[0m \u001b[1m1s\u001b[0m 93ms/step - loss: 2.9403e-04 - val_loss: 0.0014\n",
      "Epoch 59/100\n",
      "\u001b[1m12/12\u001b[0m \u001b[32m━━━━━━━━━━━━━━━━━━━━\u001b[0m\u001b[37m\u001b[0m \u001b[1m1s\u001b[0m 112ms/step - loss: 2.7505e-04 - val_loss: 0.0014\n",
      "Epoch 60/100\n",
      "\u001b[1m12/12\u001b[0m \u001b[32m━━━━━━━━━━━━━━━━━━━━\u001b[0m\u001b[37m\u001b[0m \u001b[1m1s\u001b[0m 88ms/step - loss: 2.9565e-04 - val_loss: 0.0018\n",
      "Epoch 61/100\n",
      "\u001b[1m12/12\u001b[0m \u001b[32m━━━━━━━━━━━━━━━━━━━━\u001b[0m\u001b[37m\u001b[0m \u001b[1m1s\u001b[0m 104ms/step - loss: 2.7107e-04 - val_loss: 0.0015\n",
      "Epoch 62/100\n",
      "\u001b[1m12/12\u001b[0m \u001b[32m━━━━━━━━━━━━━━━━━━━━\u001b[0m\u001b[37m\u001b[0m \u001b[1m1s\u001b[0m 93ms/step - loss: 2.5661e-04 - val_loss: 0.0015\n",
      "Epoch 63/100\n",
      "\u001b[1m12/12\u001b[0m \u001b[32m━━━━━━━━━━━━━━━━━━━━\u001b[0m\u001b[37m\u001b[0m \u001b[1m1s\u001b[0m 94ms/step - loss: 2.4744e-04 - val_loss: 0.0015\n",
      "Epoch 64/100\n",
      "\u001b[1m12/12\u001b[0m \u001b[32m━━━━━━━━━━━━━━━━━━━━\u001b[0m\u001b[37m\u001b[0m \u001b[1m1s\u001b[0m 89ms/step - loss: 2.4910e-04 - val_loss: 0.0029\n",
      "Epoch 65/100\n",
      "\u001b[1m12/12\u001b[0m \u001b[32m━━━━━━━━━━━━━━━━━━━━\u001b[0m\u001b[37m\u001b[0m \u001b[1m1s\u001b[0m 102ms/step - loss: 3.4621e-04 - val_loss: 0.0013\n",
      "Epoch 66/100\n",
      "\u001b[1m12/12\u001b[0m \u001b[32m━━━━━━━━━━━━━━━━━━━━\u001b[0m\u001b[37m\u001b[0m \u001b[1m1s\u001b[0m 93ms/step - loss: 3.0001e-04 - val_loss: 0.0021\n",
      "Epoch 67/100\n",
      "\u001b[1m12/12\u001b[0m \u001b[32m━━━━━━━━━━━━━━━━━━━━\u001b[0m\u001b[37m\u001b[0m \u001b[1m1s\u001b[0m 93ms/step - loss: 2.7330e-04 - val_loss: 0.0015\n",
      "Epoch 68/100\n",
      "\u001b[1m12/12\u001b[0m \u001b[32m━━━━━━━━━━━━━━━━━━━━\u001b[0m\u001b[37m\u001b[0m \u001b[1m1s\u001b[0m 97ms/step - loss: 3.1963e-04 - val_loss: 0.0017\n",
      "Epoch 69/100\n",
      "\u001b[1m12/12\u001b[0m \u001b[32m━━━━━━━━━━━━━━━━━━━━\u001b[0m\u001b[37m\u001b[0m \u001b[1m1s\u001b[0m 93ms/step - loss: 2.5792e-04 - val_loss: 0.0013\n",
      "Epoch 70/100\n",
      "\u001b[1m12/12\u001b[0m \u001b[32m━━━━━━━━━━━━━━━━━━━━\u001b[0m\u001b[37m\u001b[0m \u001b[1m1s\u001b[0m 93ms/step - loss: 2.6694e-04 - val_loss: 0.0014\n",
      "Epoch 71/100\n",
      "\u001b[1m12/12\u001b[0m \u001b[32m━━━━━━━━━━━━━━━━━━━━\u001b[0m\u001b[37m\u001b[0m \u001b[1m1s\u001b[0m 90ms/step - loss: 2.2674e-04 - val_loss: 0.0015\n",
      "Epoch 72/100\n",
      "\u001b[1m12/12\u001b[0m \u001b[32m━━━━━━━━━━━━━━━━━━━━\u001b[0m\u001b[37m\u001b[0m \u001b[1m1s\u001b[0m 99ms/step - loss: 2.4502e-04 - val_loss: 0.0015\n",
      "Epoch 73/100\n",
      "\u001b[1m12/12\u001b[0m \u001b[32m━━━━━━━━━━━━━━━━━━━━\u001b[0m\u001b[37m\u001b[0m \u001b[1m1s\u001b[0m 92ms/step - loss: 2.3549e-04 - val_loss: 0.0012\n",
      "Epoch 74/100\n",
      "\u001b[1m12/12\u001b[0m \u001b[32m━━━━━━━━━━━━━━━━━━━━\u001b[0m\u001b[37m\u001b[0m \u001b[1m1s\u001b[0m 86ms/step - loss: 2.3251e-04 - val_loss: 0.0016\n",
      "Epoch 75/100\n",
      "\u001b[1m12/12\u001b[0m \u001b[32m━━━━━━━━━━━━━━━━━━━━\u001b[0m\u001b[37m\u001b[0m \u001b[1m1s\u001b[0m 101ms/step - loss: 2.5412e-04 - val_loss: 0.0012\n",
      "Epoch 76/100\n",
      "\u001b[1m12/12\u001b[0m \u001b[32m━━━━━━━━━━━━━━━━━━━━\u001b[0m\u001b[37m\u001b[0m \u001b[1m1s\u001b[0m 89ms/step - loss: 2.4287e-04 - val_loss: 0.0012\n",
      "Epoch 77/100\n",
      "\u001b[1m12/12\u001b[0m \u001b[32m━━━━━━━━━━━━━━━━━━━━\u001b[0m\u001b[37m\u001b[0m \u001b[1m1s\u001b[0m 89ms/step - loss: 2.2393e-04 - val_loss: 0.0016\n",
      "Epoch 78/100\n",
      "\u001b[1m12/12\u001b[0m \u001b[32m━━━━━━━━━━━━━━━━━━━━\u001b[0m\u001b[37m\u001b[0m \u001b[1m1s\u001b[0m 103ms/step - loss: 2.4252e-04 - val_loss: 0.0015\n",
      "Epoch 79/100\n",
      "\u001b[1m12/12\u001b[0m \u001b[32m━━━━━━━━━━━━━━━━━━━━\u001b[0m\u001b[37m\u001b[0m \u001b[1m1s\u001b[0m 95ms/step - loss: 2.5158e-04 - val_loss: 0.0017\n",
      "Epoch 80/100\n",
      "\u001b[1m12/12\u001b[0m \u001b[32m━━━━━━━━━━━━━━━━━━━━\u001b[0m\u001b[37m\u001b[0m \u001b[1m1s\u001b[0m 90ms/step - loss: 2.3675e-04 - val_loss: 0.0012\n",
      "Epoch 81/100\n",
      "\u001b[1m12/12\u001b[0m \u001b[32m━━━━━━━━━━━━━━━━━━━━\u001b[0m\u001b[37m\u001b[0m \u001b[1m1s\u001b[0m 94ms/step - loss: 2.0490e-04 - val_loss: 0.0014\n",
      "Epoch 82/100\n",
      "\u001b[1m12/12\u001b[0m \u001b[32m━━━━━━━━━━━━━━━━━━━━\u001b[0m\u001b[37m\u001b[0m \u001b[1m1s\u001b[0m 96ms/step - loss: 2.2277e-04 - val_loss: 0.0011\n",
      "Epoch 83/100\n",
      "\u001b[1m12/12\u001b[0m \u001b[32m━━━━━━━━━━━━━━━━━━━━\u001b[0m\u001b[37m\u001b[0m \u001b[1m1s\u001b[0m 86ms/step - loss: 2.0736e-04 - val_loss: 0.0011\n",
      "Epoch 84/100\n",
      "\u001b[1m12/12\u001b[0m \u001b[32m━━━━━━━━━━━━━━━━━━━━\u001b[0m\u001b[37m\u001b[0m \u001b[1m1s\u001b[0m 89ms/step - loss: 2.0544e-04 - val_loss: 0.0012\n",
      "Epoch 85/100\n",
      "\u001b[1m12/12\u001b[0m \u001b[32m━━━━━━━━━━━━━━━━━━━━\u001b[0m\u001b[37m\u001b[0m \u001b[1m1s\u001b[0m 92ms/step - loss: 1.9310e-04 - val_loss: 0.0011\n",
      "Epoch 86/100\n",
      "\u001b[1m12/12\u001b[0m \u001b[32m━━━━━━━━━━━━━━━━━━━━\u001b[0m\u001b[37m\u001b[0m \u001b[1m1s\u001b[0m 80ms/step - loss: 1.9336e-04 - val_loss: 0.0011\n",
      "Epoch 87/100\n",
      "\u001b[1m12/12\u001b[0m \u001b[32m━━━━━━━━━━━━━━━━━━━━\u001b[0m\u001b[37m\u001b[0m \u001b[1m1s\u001b[0m 93ms/step - loss: 1.9037e-04 - val_loss: 0.0013\n",
      "Epoch 88/100\n",
      "\u001b[1m12/12\u001b[0m \u001b[32m━━━━━━━━━━━━━━━━━━━━\u001b[0m\u001b[37m\u001b[0m \u001b[1m1s\u001b[0m 96ms/step - loss: 2.4037e-04 - val_loss: 0.0011\n",
      "Epoch 89/100\n",
      "\u001b[1m12/12\u001b[0m \u001b[32m━━━━━━━━━━━━━━━━━━━━\u001b[0m\u001b[37m\u001b[0m \u001b[1m1s\u001b[0m 83ms/step - loss: 2.1092e-04 - val_loss: 0.0012\n",
      "Epoch 90/100\n",
      "\u001b[1m12/12\u001b[0m \u001b[32m━━━━━━━━━━━━━━━━━━━━\u001b[0m\u001b[37m\u001b[0m \u001b[1m1s\u001b[0m 90ms/step - loss: 1.9568e-04 - val_loss: 0.0011\n",
      "Epoch 91/100\n",
      "\u001b[1m12/12\u001b[0m \u001b[32m━━━━━━━━━━━━━━━━━━━━\u001b[0m\u001b[37m\u001b[0m \u001b[1m1s\u001b[0m 91ms/step - loss: 1.6439e-04 - val_loss: 0.0010\n",
      "Epoch 92/100\n",
      "\u001b[1m12/12\u001b[0m \u001b[32m━━━━━━━━━━━━━━━━━━━━\u001b[0m\u001b[37m\u001b[0m \u001b[1m1s\u001b[0m 89ms/step - loss: 2.3083e-04 - val_loss: 0.0010\n",
      "Epoch 93/100\n",
      "\u001b[1m12/12\u001b[0m \u001b[32m━━━━━━━━━━━━━━━━━━━━\u001b[0m\u001b[37m\u001b[0m \u001b[1m1s\u001b[0m 94ms/step - loss: 1.7888e-04 - val_loss: 9.9094e-04\n",
      "Epoch 94/100\n",
      "\u001b[1m12/12\u001b[0m \u001b[32m━━━━━━━━━━━━━━━━━━━━\u001b[0m\u001b[37m\u001b[0m \u001b[1m1s\u001b[0m 87ms/step - loss: 1.6698e-04 - val_loss: 0.0012\n",
      "Epoch 95/100\n",
      "\u001b[1m12/12\u001b[0m \u001b[32m━━━━━━━━━━━━━━━━━━━━\u001b[0m\u001b[37m\u001b[0m \u001b[1m1s\u001b[0m 92ms/step - loss: 1.7698e-04 - val_loss: 0.0012\n",
      "Epoch 96/100\n",
      "\u001b[1m12/12\u001b[0m \u001b[32m━━━━━━━━━━━━━━━━━━━━\u001b[0m\u001b[37m\u001b[0m \u001b[1m1s\u001b[0m 86ms/step - loss: 1.7439e-04 - val_loss: 9.7678e-04\n",
      "Epoch 97/100\n",
      "\u001b[1m12/12\u001b[0m \u001b[32m━━━━━━━━━━━━━━━━━━━━\u001b[0m\u001b[37m\u001b[0m \u001b[1m1s\u001b[0m 89ms/step - loss: 1.6580e-04 - val_loss: 0.0010\n",
      "Epoch 98/100\n",
      "\u001b[1m12/12\u001b[0m \u001b[32m━━━━━━━━━━━━━━━━━━━━\u001b[0m\u001b[37m\u001b[0m \u001b[1m1s\u001b[0m 97ms/step - loss: 1.5533e-04 - val_loss: 0.0011\n",
      "Epoch 99/100\n",
      "\u001b[1m12/12\u001b[0m \u001b[32m━━━━━━━━━━━━━━━━━━━━\u001b[0m\u001b[37m\u001b[0m \u001b[1m1s\u001b[0m 103ms/step - loss: 1.7912e-04 - val_loss: 9.4906e-04\n",
      "Epoch 100/100\n",
      "\u001b[1m12/12\u001b[0m \u001b[32m━━━━━━━━━━━━━━━━━━━━\u001b[0m\u001b[37m\u001b[0m \u001b[1m1s\u001b[0m 100ms/step - loss: 1.9467e-04 - val_loss: 0.0012\n"
     ]
    },
    {
     "data": {
      "text/plain": [
       "<keras.src.callbacks.history.History at 0x16ca46bd0>"
      ]
     },
     "execution_count": 49,
     "metadata": {},
     "output_type": "execute_result"
    }
   ],
   "source": [
    "model.fit(X_train,y_train,validation_data=(X_test,y_test),epochs=100,batch_size=64,verbose=1)"
   ]
  },
  {
   "cell_type": "code",
   "execution_count": 53,
   "id": "1b13ba31-4a84-4e3e-ac75-24bd9974c66a",
   "metadata": {},
   "outputs": [
    {
     "name": "stdout",
     "output_type": "stream",
     "text": [
      "\u001b[1m23/23\u001b[0m \u001b[32m━━━━━━━━━━━━━━━━━━━━\u001b[0m\u001b[37m\u001b[0m \u001b[1m0s\u001b[0m 11ms/step\n",
      "\u001b[1m11/11\u001b[0m \u001b[32m━━━━━━━━━━━━━━━━━━━━\u001b[0m\u001b[37m\u001b[0m \u001b[1m0s\u001b[0m 11ms/step\n"
     ]
    }
   ],
   "source": [
    "#To evaluate metrics\n",
    "train_predict = model.predict(X_train)\n",
    "test_predict = model.predict(X_test)"
   ]
  },
  {
   "cell_type": "code",
   "execution_count": 55,
   "id": "6b165a10-2e1a-40d0-af04-156f6bd5c55a",
   "metadata": {},
   "outputs": [],
   "source": [
    "#Transformback to original form\n",
    "train_predict = scaler.inverse_transform(train_predict)\n",
    "test_predict = scaler.inverse_transform(test_predict)"
   ]
  },
  {
   "cell_type": "code",
   "execution_count": 57,
   "id": "83033a67-8c0f-43c5-b198-2ac77c3c33ec",
   "metadata": {},
   "outputs": [
    {
     "data": {
      "text/plain": [
       "142.92125889115275"
      ]
     },
     "execution_count": 57,
     "metadata": {},
     "output_type": "execute_result"
    }
   ],
   "source": [
    "#Calculate RMSE metrics\n",
    "import math\n",
    "from sklearn.metrics import mean_squared_error\n",
    "math.sqrt(mean_squared_error(y_train,train_predict))"
   ]
  },
  {
   "cell_type": "code",
   "execution_count": 59,
   "id": "3761fe57-b0a3-4271-bc41-64a8a9913132",
   "metadata": {},
   "outputs": [
    {
     "data": {
      "text/plain": [
       "241.50368343759092"
      ]
     },
     "execution_count": 59,
     "metadata": {},
     "output_type": "execute_result"
    }
   ],
   "source": [
    "#test data\n",
    "math.sqrt(mean_squared_error(y_test,test_predict))"
   ]
  },
  {
   "cell_type": "code",
   "execution_count": 67,
   "id": "4675d561-c78c-40ed-9e46-4159d0f86555",
   "metadata": {},
   "outputs": [
    {
     "data": {
      "image/png": "[encoded data removed]",
      "text/plain": [
       "<Figure size 640x480 with 1 Axes>"
      ]
     },
     "metadata": {},
     "output_type": "display_data"
    }
   ],
   "source": [
    "# shift train predictions for plotting\n",
    "look_back=100\n",
    "trainPredictPlot = np.empty_like(df1)\n",
    "trainPredictPlot[:, :] = np.nan\n",
    "trainPredictPlot[look_back:len(train_predict)+look_back, :] = train_predict\n",
    "# shift test predictions for plotting\n",
    "testPredictPlot = np.empty_like(df1)\n",
    "testPredictPlot[:, :] = np.nan\n",
    "testPredictPlot[len(train_predict)+(look_back*2)+1:len(df1)-1, :] = test_predict\n",
    "# plot baseline and predictions\n",
    "plt.plot(scaler.inverse_transform(df1))\n",
    "plt.plot(trainPredictPlot)\n",
    "plt.plot(testPredictPlot)\n",
    "plt.show()"
   ]
  },
  {
   "cell_type": "code",
   "execution_count": 69,
   "id": "89928de1-5b6f-4cca-916f-f9a00a4a5f29",
   "metadata": {},
   "outputs": [
    {
     "data": {
      "text/plain": [
       "441"
      ]
     },
     "execution_count": 69,
     "metadata": {},
     "output_type": "execute_result"
    }
   ],
   "source": [
    "len(test_data)\n"
   ]
  },
  {
   "cell_type": "code",
   "execution_count": 71,
   "id": "9d464d29-db55-4efa-89f2-ab2d17a48c22",
   "metadata": {},
   "outputs": [
    {
     "data": {
      "text/plain": [
       "(1, 100)"
      ]
     },
     "execution_count": 71,
     "metadata": {},
     "output_type": "execute_result"
    }
   ],
   "source": [
    "X_input =test_data[341:].reshape(1,-1)\n",
    "X_input.shape"
   ]
  },
  {
   "cell_type": "code",
   "execution_count": 74,
   "id": "7c8b80c7-35af-4e43-a514-1cc5c9de4bcc",
   "metadata": {},
   "outputs": [],
   "source": [
    "temp_input = list(X_input)\n",
    "temp_input = temp_input[0].tolist()"
   ]
  },
  {
   "cell_type": "code",
   "execution_count": 84,
   "id": "a6cf8cd4-02fd-432d-a2dd-d1bce97a999d",
   "metadata": {},
   "outputs": [
    {
     "name": "stdout",
     "output_type": "stream",
     "text": [
      "[0.98042643]\n",
      "101\n",
      "1 day input [0.8866419  0.87431394 0.88431985 0.87836697 0.8986321  0.92582116\n",
      " 0.92877649 0.95676771 0.93869797 0.93304061 0.94950604 0.96424048\n",
      " 0.95512117 0.95989192 0.96635143 0.96246728 0.92295027 0.9598497\n",
      " 0.98792536 0.98594106 0.92531453 0.92172591 0.96474711 0.97572406\n",
      " 0.99159841 0.96972895 0.97614625 0.96795575 1.         0.99016297\n",
      " 0.99050072 0.96538039 0.98488559 0.97086887 0.94026007 0.87748037\n",
      " 0.83483915 0.85413324 0.77336823 0.77269273 0.88014017 0.84007431\n",
      " 0.89673225 0.85527316 0.83884995 0.74233725 0.82327113 0.78143207\n",
      " 0.6665963  0.7921557  0.64118044 0.68614371 0.66001013 0.65203074\n",
      " 0.58642236 0.56586169 0.66089673 0.65515494 0.70970193 0.66452757\n",
      " 0.69437642 0.69218104 0.63569197 0.65266402 0.63780292 0.7267162\n",
      " 0.71388162 0.74191506 0.75002111 0.77222832 0.83049059 0.8194292\n",
      " 0.8289707  0.8125475  0.78776492 0.75162543 0.78426074 0.77974331\n",
      " 0.81326522 0.8141096  0.79473106 0.83336148 0.85898843 0.83901883\n",
      " 0.85628641 0.87486279 0.88782403 0.90095415 0.92793211 0.948535\n",
      " 0.93333615 0.91746179 0.92544119 0.91771511 0.9483239  0.94064004\n",
      " 0.96635143 0.9563033  0.96491598 0.98042643]\n",
      "1 day output [[0.98748404]]\n",
      "2 day input [0.87431394 0.88431985 0.87836697 0.8986321  0.92582116 0.92877649\n",
      " 0.95676771 0.93869797 0.93304061 0.94950604 0.96424048 0.95512117\n",
      " 0.95989192 0.96635143 0.96246728 0.92295027 0.9598497  0.98792536\n",
      " 0.98594106 0.92531453 0.92172591 0.96474711 0.97572406 0.99159841\n",
      " 0.96972895 0.97614625 0.96795575 1.         0.99016297 0.99050072\n",
      " 0.96538039 0.98488559 0.97086887 0.94026007 0.87748037 0.83483915\n",
      " 0.85413324 0.77336823 0.77269273 0.88014017 0.84007431 0.89673225\n",
      " 0.85527316 0.83884995 0.74233725 0.82327113 0.78143207 0.6665963\n",
      " 0.7921557  0.64118044 0.68614371 0.66001013 0.65203074 0.58642236\n",
      " 0.56586169 0.66089673 0.65515494 0.70970193 0.66452757 0.69437642\n",
      " 0.69218104 0.63569197 0.65266402 0.63780292 0.7267162  0.71388162\n",
      " 0.74191506 0.75002111 0.77222832 0.83049059 0.8194292  0.8289707\n",
      " 0.8125475  0.78776492 0.75162543 0.78426074 0.77974331 0.81326522\n",
      " 0.8141096  0.79473106 0.83336148 0.85898843 0.83901883 0.85628641\n",
      " 0.87486279 0.88782403 0.90095415 0.92793211 0.948535   0.93333615\n",
      " 0.91746179 0.92544119 0.91771511 0.9483239  0.94064004 0.96635143\n",
      " 0.9563033  0.96491598 0.98042643 0.98748404]\n",
      "2 day output [[0.99552065]]\n",
      "3 day input [0.88431985 0.87836697 0.8986321  0.92582116 0.92877649 0.95676771\n",
      " 0.93869797 0.93304061 0.94950604 0.96424048 0.95512117 0.95989192\n",
      " 0.96635143 0.96246728 0.92295027 0.9598497  0.98792536 0.98594106\n",
      " 0.92531453 0.92172591 0.96474711 0.97572406 0.99159841 0.96972895\n",
      " 0.97614625 0.96795575 1.         0.99016297 0.99050072 0.96538039\n",
      " 0.98488559 0.97086887 0.94026007 0.87748037 0.83483915 0.85413324\n",
      " 0.77336823 0.77269273 0.88014017 0.84007431 0.89673225 0.85527316\n",
      " 0.83884995 0.74233725 0.82327113 0.78143207 0.6665963  0.7921557\n",
      " 0.64118044 0.68614371 0.66001013 0.65203074 0.58642236 0.56586169\n",
      " 0.66089673 0.65515494 0.70970193 0.66452757 0.69437642 0.69218104\n",
      " 0.63569197 0.65266402 0.63780292 0.7267162  0.71388162 0.74191506\n",
      " 0.75002111 0.77222832 0.83049059 0.8194292  0.8289707  0.8125475\n",
      " 0.78776492 0.75162543 0.78426074 0.77974331 0.81326522 0.8141096\n",
      " 0.79473106 0.83336148 0.85898843 0.83901883 0.85628641 0.87486279\n",
      " 0.88782403 0.90095415 0.92793211 0.948535   0.93333615 0.91746179\n",
      " 0.92544119 0.91771511 0.9483239  0.94064004 0.96635143 0.9563033\n",
      " 0.96491598 0.98042643 0.98748404 0.99552065]\n",
      "3 day output [[1.0036216]]\n",
      "4 day input [0.87836697 0.8986321  0.92582116 0.92877649 0.95676771 0.93869797\n",
      " 0.93304061 0.94950604 0.96424048 0.95512117 0.95989192 0.96635143\n",
      " 0.96246728 0.92295027 0.9598497  0.98792536 0.98594106 0.92531453\n",
      " 0.92172591 0.96474711 0.97572406 0.99159841 0.96972895 0.97614625\n",
      " 0.96795575 1.         0.99016297 0.99050072 0.96538039 0.98488559\n",
      " 0.97086887 0.94026007 0.87748037 0.83483915 0.85413324 0.77336823\n",
      " 0.77269273 0.88014017 0.84007431 0.89673225 0.85527316 0.83884995\n",
      " 0.74233725 0.82327113 0.78143207 0.6665963  0.7921557  0.64118044\n",
      " 0.68614371 0.66001013 0.65203074 0.58642236 0.56586169 0.66089673\n",
      " 0.65515494 0.70970193 0.66452757 0.69437642 0.69218104 0.63569197\n",
      " 0.65266402 0.63780292 0.7267162  0.71388162 0.74191506 0.75002111\n",
      " 0.77222832 0.83049059 0.8194292  0.8289707  0.8125475  0.78776492\n",
      " 0.75162543 0.78426074 0.77974331 0.81326522 0.8141096  0.79473106\n",
      " 0.83336148 0.85898843 0.83901883 0.85628641 0.87486279 0.88782403\n",
      " 0.90095415 0.92793211 0.948535   0.93333615 0.91746179 0.92544119\n",
      " 0.91771511 0.9483239  0.94064004 0.96635143 0.9563033  0.96491598\n",
      " 0.98042643 0.98748404 0.99552065 1.00362158]\n",
      "4 day output [[1.0113193]]\n",
      "5 day input [0.8986321  0.92582116 0.92877649 0.95676771 0.93869797 0.93304061\n",
      " 0.94950604 0.96424048 0.95512117 0.95989192 0.96635143 0.96246728\n",
      " 0.92295027 0.9598497  0.98792536 0.98594106 0.92531453 0.92172591\n",
      " 0.96474711 0.97572406 0.99159841 0.96972895 0.97614625 0.96795575\n",
      " 1.         0.99016297 0.99050072 0.96538039 0.98488559 0.97086887\n",
      " 0.94026007 0.87748037 0.83483915 0.85413324 0.77336823 0.77269273\n",
      " 0.88014017 0.84007431 0.89673225 0.85527316 0.83884995 0.74233725\n",
      " 0.82327113 0.78143207 0.6665963  0.7921557  0.64118044 0.68614371\n",
      " 0.66001013 0.65203074 0.58642236 0.56586169 0.66089673 0.65515494\n",
      " 0.70970193 0.66452757 0.69437642 0.69218104 0.63569197 0.65266402\n",
      " 0.63780292 0.7267162  0.71388162 0.74191506 0.75002111 0.77222832\n",
      " 0.83049059 0.8194292  0.8289707  0.8125475  0.78776492 0.75162543\n",
      " 0.78426074 0.77974331 0.81326522 0.8141096  0.79473106 0.83336148\n",
      " 0.85898843 0.83901883 0.85628641 0.87486279 0.88782403 0.90095415\n",
      " 0.92793211 0.948535   0.93333615 0.91746179 0.92544119 0.91771511\n",
      " 0.9483239  0.94064004 0.96635143 0.9563033  0.96491598 0.98042643\n",
      " 0.98748404 0.99552065 1.00362158 1.01131928]\n",
      "5 day output [[1.0185357]]\n",
      "6 day input [0.92582116 0.92877649 0.95676771 0.93869797 0.93304061 0.94950604\n",
      " 0.96424048 0.95512117 0.95989192 0.96635143 0.96246728 0.92295027\n",
      " 0.9598497  0.98792536 0.98594106 0.92531453 0.92172591 0.96474711\n",
      " 0.97572406 0.99159841 0.96972895 0.97614625 0.96795575 1.\n",
      " 0.99016297 0.99050072 0.96538039 0.98488559 0.97086887 0.94026007\n",
      " 0.87748037 0.83483915 0.85413324 0.77336823 0.77269273 0.88014017\n",
      " 0.84007431 0.89673225 0.85527316 0.83884995 0.74233725 0.82327113\n",
      " 0.78143207 0.6665963  0.7921557  0.64118044 0.68614371 0.66001013\n",
      " 0.65203074 0.58642236 0.56586169 0.66089673 0.65515494 0.70970193\n",
      " 0.66452757 0.69437642 0.69218104 0.63569197 0.65266402 0.63780292\n",
      " 0.7267162  0.71388162 0.74191506 0.75002111 0.77222832 0.83049059\n",
      " 0.8194292  0.8289707  0.8125475  0.78776492 0.75162543 0.78426074\n",
      " 0.77974331 0.81326522 0.8141096  0.79473106 0.83336148 0.85898843\n",
      " 0.83901883 0.85628641 0.87486279 0.88782403 0.90095415 0.92793211\n",
      " 0.948535   0.93333615 0.91746179 0.92544119 0.91771511 0.9483239\n",
      " 0.94064004 0.96635143 0.9563033  0.96491598 0.98042643 0.98748404\n",
      " 0.99552065 1.00362158 1.01131928 1.01853573]\n",
      "6 day output [[1.0253599]]\n",
      "7 day input [0.92877649 0.95676771 0.93869797 0.93304061 0.94950604 0.96424048\n",
      " 0.95512117 0.95989192 0.96635143 0.96246728 0.92295027 0.9598497\n",
      " 0.98792536 0.98594106 0.92531453 0.92172591 0.96474711 0.97572406\n",
      " 0.99159841 0.96972895 0.97614625 0.96795575 1.         0.99016297\n",
      " 0.99050072 0.96538039 0.98488559 0.97086887 0.94026007 0.87748037\n",
      " 0.83483915 0.85413324 0.77336823 0.77269273 0.88014017 0.84007431\n",
      " 0.89673225 0.85527316 0.83884995 0.74233725 0.82327113 0.78143207\n",
      " 0.6665963  0.7921557  0.64118044 0.68614371 0.66001013 0.65203074\n",
      " 0.58642236 0.56586169 0.66089673 0.65515494 0.70970193 0.66452757\n",
      " 0.69437642 0.69218104 0.63569197 0.65266402 0.63780292 0.7267162\n",
      " 0.71388162 0.74191506 0.75002111 0.77222832 0.83049059 0.8194292\n",
      " 0.8289707  0.8125475  0.78776492 0.75162543 0.78426074 0.77974331\n",
      " 0.81326522 0.8141096  0.79473106 0.83336148 0.85898843 0.83901883\n",
      " 0.85628641 0.87486279 0.88782403 0.90095415 0.92793211 0.948535\n",
      " 0.93333615 0.91746179 0.92544119 0.91771511 0.9483239  0.94064004\n",
      " 0.96635143 0.9563033  0.96491598 0.98042643 0.98748404 0.99552065\n",
      " 1.00362158 1.01131928 1.01853573 1.02535987]\n",
      "7 day output [[1.0319256]]\n",
      "8 day input [0.95676771 0.93869797 0.93304061 0.94950604 0.96424048 0.95512117\n",
      " 0.95989192 0.96635143 0.96246728 0.92295027 0.9598497  0.98792536\n",
      " 0.98594106 0.92531453 0.92172591 0.96474711 0.97572406 0.99159841\n",
      " 0.96972895 0.97614625 0.96795575 1.         0.99016297 0.99050072\n",
      " 0.96538039 0.98488559 0.97086887 0.94026007 0.87748037 0.83483915\n",
      " 0.85413324 0.77336823 0.77269273 0.88014017 0.84007431 0.89673225\n",
      " 0.85527316 0.83884995 0.74233725 0.82327113 0.78143207 0.6665963\n",
      " 0.7921557  0.64118044 0.68614371 0.66001013 0.65203074 0.58642236\n",
      " 0.56586169 0.66089673 0.65515494 0.70970193 0.66452757 0.69437642\n",
      " 0.69218104 0.63569197 0.65266402 0.63780292 0.7267162  0.71388162\n",
      " 0.74191506 0.75002111 0.77222832 0.83049059 0.8194292  0.8289707\n",
      " 0.8125475  0.78776492 0.75162543 0.78426074 0.77974331 0.81326522\n",
      " 0.8141096  0.79473106 0.83336148 0.85898843 0.83901883 0.85628641\n",
      " 0.87486279 0.88782403 0.90095415 0.92793211 0.948535   0.93333615\n",
      " 0.91746179 0.92544119 0.91771511 0.9483239  0.94064004 0.96635143\n",
      " 0.9563033  0.96491598 0.98042643 0.98748404 0.99552065 1.00362158\n",
      " 1.01131928 1.01853573 1.02535987 1.03192556]\n",
      "8 day output [[1.0383706]]\n",
      "9 day input [0.93869797 0.93304061 0.94950604 0.96424048 0.95512117 0.95989192\n",
      " 0.96635143 0.96246728 0.92295027 0.9598497  0.98792536 0.98594106\n",
      " 0.92531453 0.92172591 0.96474711 0.97572406 0.99159841 0.96972895\n",
      " 0.97614625 0.96795575 1.         0.99016297 0.99050072 0.96538039\n",
      " 0.98488559 0.97086887 0.94026007 0.87748037 0.83483915 0.85413324\n",
      " 0.77336823 0.77269273 0.88014017 0.84007431 0.89673225 0.85527316\n",
      " 0.83884995 0.74233725 0.82327113 0.78143207 0.6665963  0.7921557\n",
      " 0.64118044 0.68614371 0.66001013 0.65203074 0.58642236 0.56586169\n",
      " 0.66089673 0.65515494 0.70970193 0.66452757 0.69437642 0.69218104\n",
      " 0.63569197 0.65266402 0.63780292 0.7267162  0.71388162 0.74191506\n",
      " 0.75002111 0.77222832 0.83049059 0.8194292  0.8289707  0.8125475\n",
      " 0.78776492 0.75162543 0.78426074 0.77974331 0.81326522 0.8141096\n",
      " 0.79473106 0.83336148 0.85898843 0.83901883 0.85628641 0.87486279\n",
      " 0.88782403 0.90095415 0.92793211 0.948535   0.93333615 0.91746179\n",
      " 0.92544119 0.91771511 0.9483239  0.94064004 0.96635143 0.9563033\n",
      " 0.96491598 0.98042643 0.98748404 0.99552065 1.00362158 1.01131928\n",
      " 1.01853573 1.02535987 1.03192556 1.03837061]\n",
      "9 day output [[1.0448194]]\n",
      "10 day input [0.93304061 0.94950604 0.96424048 0.95512117 0.95989192 0.96635143\n",
      " 0.96246728 0.92295027 0.9598497  0.98792536 0.98594106 0.92531453\n",
      " 0.92172591 0.96474711 0.97572406 0.99159841 0.96972895 0.97614625\n",
      " 0.96795575 1.         0.99016297 0.99050072 0.96538039 0.98488559\n",
      " 0.97086887 0.94026007 0.87748037 0.83483915 0.85413324 0.77336823\n",
      " 0.77269273 0.88014017 0.84007431 0.89673225 0.85527316 0.83884995\n",
      " 0.74233725 0.82327113 0.78143207 0.6665963  0.7921557  0.64118044\n",
      " 0.68614371 0.66001013 0.65203074 0.58642236 0.56586169 0.66089673\n",
      " 0.65515494 0.70970193 0.66452757 0.69437642 0.69218104 0.63569197\n",
      " 0.65266402 0.63780292 0.7267162  0.71388162 0.74191506 0.75002111\n",
      " 0.77222832 0.83049059 0.8194292  0.8289707  0.8125475  0.78776492\n",
      " 0.75162543 0.78426074 0.77974331 0.81326522 0.8141096  0.79473106\n",
      " 0.83336148 0.85898843 0.83901883 0.85628641 0.87486279 0.88782403\n",
      " 0.90095415 0.92793211 0.948535   0.93333615 0.91746179 0.92544119\n",
      " 0.91771511 0.9483239  0.94064004 0.96635143 0.9563033  0.96491598\n",
      " 0.98042643 0.98748404 0.99552065 1.00362158 1.01131928 1.01853573\n",
      " 1.02535987 1.03192556 1.03837061 1.04481936]\n",
      "10 day output [[1.0513676]]\n",
      "11 day input [0.94950604 0.96424048 0.95512117 0.95989192 0.96635143 0.96246728\n",
      " 0.92295027 0.9598497  0.98792536 0.98594106 0.92531453 0.92172591\n",
      " 0.96474711 0.97572406 0.99159841 0.96972895 0.97614625 0.96795575\n",
      " 1.         0.99016297 0.99050072 0.96538039 0.98488559 0.97086887\n",
      " 0.94026007 0.87748037 0.83483915 0.85413324 0.77336823 0.77269273\n",
      " 0.88014017 0.84007431 0.89673225 0.85527316 0.83884995 0.74233725\n",
      " 0.82327113 0.78143207 0.6665963  0.7921557  0.64118044 0.68614371\n",
      " 0.66001013 0.65203074 0.58642236 0.56586169 0.66089673 0.65515494\n",
      " 0.70970193 0.66452757 0.69437642 0.69218104 0.63569197 0.65266402\n",
      " 0.63780292 0.7267162  0.71388162 0.74191506 0.75002111 0.77222832\n",
      " 0.83049059 0.8194292  0.8289707  0.8125475  0.78776492 0.75162543\n",
      " 0.78426074 0.77974331 0.81326522 0.8141096  0.79473106 0.83336148\n",
      " 0.85898843 0.83901883 0.85628641 0.87486279 0.88782403 0.90095415\n",
      " 0.92793211 0.948535   0.93333615 0.91746179 0.92544119 0.91771511\n",
      " 0.9483239  0.94064004 0.96635143 0.9563033  0.96491598 0.98042643\n",
      " 0.98748404 0.99552065 1.00362158 1.01131928 1.01853573 1.02535987\n",
      " 1.03192556 1.03837061 1.04481936 1.05136764]\n",
      "11 day output [[1.0580758]]\n",
      "12 day input [0.96424048 0.95512117 0.95989192 0.96635143 0.96246728 0.92295027\n",
      " 0.9598497  0.98792536 0.98594106 0.92531453 0.92172591 0.96474711\n",
      " 0.97572406 0.99159841 0.96972895 0.97614625 0.96795575 1.\n",
      " 0.99016297 0.99050072 0.96538039 0.98488559 0.97086887 0.94026007\n",
      " 0.87748037 0.83483915 0.85413324 0.77336823 0.77269273 0.88014017\n",
      " 0.84007431 0.89673225 0.85527316 0.83884995 0.74233725 0.82327113\n",
      " 0.78143207 0.6665963  0.7921557  0.64118044 0.68614371 0.66001013\n",
      " 0.65203074 0.58642236 0.56586169 0.66089673 0.65515494 0.70970193\n",
      " 0.66452757 0.69437642 0.69218104 0.63569197 0.65266402 0.63780292\n",
      " 0.7267162  0.71388162 0.74191506 0.75002111 0.77222832 0.83049059\n",
      " 0.8194292  0.8289707  0.8125475  0.78776492 0.75162543 0.78426074\n",
      " 0.77974331 0.81326522 0.8141096  0.79473106 0.83336148 0.85898843\n",
      " 0.83901883 0.85628641 0.87486279 0.88782403 0.90095415 0.92793211\n",
      " 0.948535   0.93333615 0.91746179 0.92544119 0.91771511 0.9483239\n",
      " 0.94064004 0.96635143 0.9563033  0.96491598 0.98042643 0.98748404\n",
      " 0.99552065 1.00362158 1.01131928 1.01853573 1.02535987 1.03192556\n",
      " 1.03837061 1.04481936 1.05136764 1.05807579]\n",
      "12 day output [[1.0649639]]\n",
      "13 day input [0.95512117 0.95989192 0.96635143 0.96246728 0.92295027 0.9598497\n",
      " 0.98792536 0.98594106 0.92531453 0.92172591 0.96474711 0.97572406\n",
      " 0.99159841 0.96972895 0.97614625 0.96795575 1.         0.99016297\n",
      " 0.99050072 0.96538039 0.98488559 0.97086887 0.94026007 0.87748037\n",
      " 0.83483915 0.85413324 0.77336823 0.77269273 0.88014017 0.84007431\n",
      " 0.89673225 0.85527316 0.83884995 0.74233725 0.82327113 0.78143207\n",
      " 0.6665963  0.7921557  0.64118044 0.68614371 0.66001013 0.65203074\n",
      " 0.58642236 0.56586169 0.66089673 0.65515494 0.70970193 0.66452757\n",
      " 0.69437642 0.69218104 0.63569197 0.65266402 0.63780292 0.7267162\n",
      " 0.71388162 0.74191506 0.75002111 0.77222832 0.83049059 0.8194292\n",
      " 0.8289707  0.8125475  0.78776492 0.75162543 0.78426074 0.77974331\n",
      " 0.81326522 0.8141096  0.79473106 0.83336148 0.85898843 0.83901883\n",
      " 0.85628641 0.87486279 0.88782403 0.90095415 0.92793211 0.948535\n",
      " 0.93333615 0.91746179 0.92544119 0.91771511 0.9483239  0.94064004\n",
      " 0.96635143 0.9563033  0.96491598 0.98042643 0.98748404 0.99552065\n",
      " 1.00362158 1.01131928 1.01853573 1.02535987 1.03192556 1.03837061\n",
      " 1.04481936 1.05136764 1.05807579 1.06496394]\n",
      "13 day output [[1.0720156]]\n",
      "14 day input [0.95989192 0.96635143 0.96246728 0.92295027 0.9598497  0.98792536\n",
      " 0.98594106 0.92531453 0.92172591 0.96474711 0.97572406 0.99159841\n",
      " 0.96972895 0.97614625 0.96795575 1.         0.99016297 0.99050072\n",
      " 0.96538039 0.98488559 0.97086887 0.94026007 0.87748037 0.83483915\n",
      " 0.85413324 0.77336823 0.77269273 0.88014017 0.84007431 0.89673225\n",
      " 0.85527316 0.83884995 0.74233725 0.82327113 0.78143207 0.6665963\n",
      " 0.7921557  0.64118044 0.68614371 0.66001013 0.65203074 0.58642236\n",
      " 0.56586169 0.66089673 0.65515494 0.70970193 0.66452757 0.69437642\n",
      " 0.69218104 0.63569197 0.65266402 0.63780292 0.7267162  0.71388162\n",
      " 0.74191506 0.75002111 0.77222832 0.83049059 0.8194292  0.8289707\n",
      " 0.8125475  0.78776492 0.75162543 0.78426074 0.77974331 0.81326522\n",
      " 0.8141096  0.79473106 0.83336148 0.85898843 0.83901883 0.85628641\n",
      " 0.87486279 0.88782403 0.90095415 0.92793211 0.948535   0.93333615\n",
      " 0.91746179 0.92544119 0.91771511 0.9483239  0.94064004 0.96635143\n",
      " 0.9563033  0.96491598 0.98042643 0.98748404 0.99552065 1.00362158\n",
      " 1.01131928 1.01853573 1.02535987 1.03192556 1.03837061 1.04481936\n",
      " 1.05136764 1.05807579 1.06496394 1.07201564]\n",
      "14 day output [[1.0791872]]\n",
      "15 day input [0.96635143 0.96246728 0.92295027 0.9598497  0.98792536 0.98594106\n",
      " 0.92531453 0.92172591 0.96474711 0.97572406 0.99159841 0.96972895\n",
      " 0.97614625 0.96795575 1.         0.99016297 0.99050072 0.96538039\n",
      " 0.98488559 0.97086887 0.94026007 0.87748037 0.83483915 0.85413324\n",
      " 0.77336823 0.77269273 0.88014017 0.84007431 0.89673225 0.85527316\n",
      " 0.83884995 0.74233725 0.82327113 0.78143207 0.6665963  0.7921557\n",
      " 0.64118044 0.68614371 0.66001013 0.65203074 0.58642236 0.56586169\n",
      " 0.66089673 0.65515494 0.70970193 0.66452757 0.69437642 0.69218104\n",
      " 0.63569197 0.65266402 0.63780292 0.7267162  0.71388162 0.74191506\n",
      " 0.75002111 0.77222832 0.83049059 0.8194292  0.8289707  0.8125475\n",
      " 0.78776492 0.75162543 0.78426074 0.77974331 0.81326522 0.8141096\n",
      " 0.79473106 0.83336148 0.85898843 0.83901883 0.85628641 0.87486279\n",
      " 0.88782403 0.90095415 0.92793211 0.948535   0.93333615 0.91746179\n",
      " 0.92544119 0.91771511 0.9483239  0.94064004 0.96635143 0.9563033\n",
      " 0.96491598 0.98042643 0.98748404 0.99552065 1.00362158 1.01131928\n",
      " 1.01853573 1.02535987 1.03192556 1.03837061 1.04481936 1.05136764\n",
      " 1.05807579 1.06496394 1.07201564 1.07918715]\n",
      "15 day output [[1.0864173]]\n",
      "16 day input [0.96246728 0.92295027 0.9598497  0.98792536 0.98594106 0.92531453\n",
      " 0.92172591 0.96474711 0.97572406 0.99159841 0.96972895 0.97614625\n",
      " 0.96795575 1.         0.99016297 0.99050072 0.96538039 0.98488559\n",
      " 0.97086887 0.94026007 0.87748037 0.83483915 0.85413324 0.77336823\n",
      " 0.77269273 0.88014017 0.84007431 0.89673225 0.85527316 0.83884995\n",
      " 0.74233725 0.82327113 0.78143207 0.6665963  0.7921557  0.64118044\n",
      " 0.68614371 0.66001013 0.65203074 0.58642236 0.56586169 0.66089673\n",
      " 0.65515494 0.70970193 0.66452757 0.69437642 0.69218104 0.63569197\n",
      " 0.65266402 0.63780292 0.7267162  0.71388162 0.74191506 0.75002111\n",
      " 0.77222832 0.83049059 0.8194292  0.8289707  0.8125475  0.78776492\n",
      " 0.75162543 0.78426074 0.77974331 0.81326522 0.8141096  0.79473106\n",
      " 0.83336148 0.85898843 0.83901883 0.85628641 0.87486279 0.88782403\n",
      " 0.90095415 0.92793211 0.948535   0.93333615 0.91746179 0.92544119\n",
      " 0.91771511 0.9483239  0.94064004 0.96635143 0.9563033  0.96491598\n",
      " 0.98042643 0.98748404 0.99552065 1.00362158 1.01131928 1.01853573\n",
      " 1.02535987 1.03192556 1.03837061 1.04481936 1.05136764 1.05807579\n",
      " 1.06496394 1.07201564 1.07918715 1.08641732]\n",
      "16 day output [[1.0936388]]\n",
      "17 day input [0.92295027 0.9598497  0.98792536 0.98594106 0.92531453 0.92172591\n",
      " 0.96474711 0.97572406 0.99159841 0.96972895 0.97614625 0.96795575\n",
      " 1.         0.99016297 0.99050072 0.96538039 0.98488559 0.97086887\n",
      " 0.94026007 0.87748037 0.83483915 0.85413324 0.77336823 0.77269273\n",
      " 0.88014017 0.84007431 0.89673225 0.85527316 0.83884995 0.74233725\n",
      " 0.82327113 0.78143207 0.6665963  0.7921557  0.64118044 0.68614371\n",
      " 0.66001013 0.65203074 0.58642236 0.56586169 0.66089673 0.65515494\n",
      " 0.70970193 0.66452757 0.69437642 0.69218104 0.63569197 0.65266402\n",
      " 0.63780292 0.7267162  0.71388162 0.74191506 0.75002111 0.77222832\n",
      " 0.83049059 0.8194292  0.8289707  0.8125475  0.78776492 0.75162543\n",
      " 0.78426074 0.77974331 0.81326522 0.8141096  0.79473106 0.83336148\n",
      " 0.85898843 0.83901883 0.85628641 0.87486279 0.88782403 0.90095415\n",
      " 0.92793211 0.948535   0.93333615 0.91746179 0.92544119 0.91771511\n",
      " 0.9483239  0.94064004 0.96635143 0.9563033  0.96491598 0.98042643\n",
      " 0.98748404 0.99552065 1.00362158 1.01131928 1.01853573 1.02535987\n",
      " 1.03192556 1.03837061 1.04481936 1.05136764 1.05807579 1.06496394\n",
      " 1.07201564 1.07918715 1.08641732 1.09363878]\n",
      "17 day output [[1.1007909]]\n",
      "18 day input [0.9598497  0.98792536 0.98594106 0.92531453 0.92172591 0.96474711\n",
      " 0.97572406 0.99159841 0.96972895 0.97614625 0.96795575 1.\n",
      " 0.99016297 0.99050072 0.96538039 0.98488559 0.97086887 0.94026007\n",
      " 0.87748037 0.83483915 0.85413324 0.77336823 0.77269273 0.88014017\n",
      " 0.84007431 0.89673225 0.85527316 0.83884995 0.74233725 0.82327113\n",
      " 0.78143207 0.6665963  0.7921557  0.64118044 0.68614371 0.66001013\n",
      " 0.65203074 0.58642236 0.56586169 0.66089673 0.65515494 0.70970193\n",
      " 0.66452757 0.69437642 0.69218104 0.63569197 0.65266402 0.63780292\n",
      " 0.7267162  0.71388162 0.74191506 0.75002111 0.77222832 0.83049059\n",
      " 0.8194292  0.8289707  0.8125475  0.78776492 0.75162543 0.78426074\n",
      " 0.77974331 0.81326522 0.8141096  0.79473106 0.83336148 0.85898843\n",
      " 0.83901883 0.85628641 0.87486279 0.88782403 0.90095415 0.92793211\n",
      " 0.948535   0.93333615 0.91746179 0.92544119 0.91771511 0.9483239\n",
      " 0.94064004 0.96635143 0.9563033  0.96491598 0.98042643 0.98748404\n",
      " 0.99552065 1.00362158 1.01131928 1.01853573 1.02535987 1.03192556\n",
      " 1.03837061 1.04481936 1.05136764 1.05807579 1.06496394 1.07201564\n",
      " 1.07918715 1.08641732 1.09363878 1.10079086]\n",
      "18 day output [[1.1078243]]\n",
      "19 day input [0.98792536 0.98594106 0.92531453 0.92172591 0.96474711 0.97572406\n",
      " 0.99159841 0.96972895 0.97614625 0.96795575 1.         0.99016297\n",
      " 0.99050072 0.96538039 0.98488559 0.97086887 0.94026007 0.87748037\n",
      " 0.83483915 0.85413324 0.77336823 0.77269273 0.88014017 0.84007431\n",
      " 0.89673225 0.85527316 0.83884995 0.74233725 0.82327113 0.78143207\n",
      " 0.6665963  0.7921557  0.64118044 0.68614371 0.66001013 0.65203074\n",
      " 0.58642236 0.56586169 0.66089673 0.65515494 0.70970193 0.66452757\n",
      " 0.69437642 0.69218104 0.63569197 0.65266402 0.63780292 0.7267162\n",
      " 0.71388162 0.74191506 0.75002111 0.77222832 0.83049059 0.8194292\n",
      " 0.8289707  0.8125475  0.78776492 0.75162543 0.78426074 0.77974331\n",
      " 0.81326522 0.8141096  0.79473106 0.83336148 0.85898843 0.83901883\n",
      " 0.85628641 0.87486279 0.88782403 0.90095415 0.92793211 0.948535\n",
      " 0.93333615 0.91746179 0.92544119 0.91771511 0.9483239  0.94064004\n",
      " 0.96635143 0.9563033  0.96491598 0.98042643 0.98748404 0.99552065\n",
      " 1.00362158 1.01131928 1.01853573 1.02535987 1.03192556 1.03837061\n",
      " 1.04481936 1.05136764 1.05807579 1.06496394 1.07201564 1.07918715\n",
      " 1.08641732 1.09363878 1.10079086 1.10782433]\n",
      "19 day output [[1.1147068]]\n",
      "20 day input [0.98594106 0.92531453 0.92172591 0.96474711 0.97572406 0.99159841\n",
      " 0.96972895 0.97614625 0.96795575 1.         0.99016297 0.99050072\n",
      " 0.96538039 0.98488559 0.97086887 0.94026007 0.87748037 0.83483915\n",
      " 0.85413324 0.77336823 0.77269273 0.88014017 0.84007431 0.89673225\n",
      " 0.85527316 0.83884995 0.74233725 0.82327113 0.78143207 0.6665963\n",
      " 0.7921557  0.64118044 0.68614371 0.66001013 0.65203074 0.58642236\n",
      " 0.56586169 0.66089673 0.65515494 0.70970193 0.66452757 0.69437642\n",
      " 0.69218104 0.63569197 0.65266402 0.63780292 0.7267162  0.71388162\n",
      " 0.74191506 0.75002111 0.77222832 0.83049059 0.8194292  0.8289707\n",
      " 0.8125475  0.78776492 0.75162543 0.78426074 0.77974331 0.81326522\n",
      " 0.8141096  0.79473106 0.83336148 0.85898843 0.83901883 0.85628641\n",
      " 0.87486279 0.88782403 0.90095415 0.92793211 0.948535   0.93333615\n",
      " 0.91746179 0.92544119 0.91771511 0.9483239  0.94064004 0.96635143\n",
      " 0.9563033  0.96491598 0.98042643 0.98748404 0.99552065 1.00362158\n",
      " 1.01131928 1.01853573 1.02535987 1.03192556 1.03837061 1.04481936\n",
      " 1.05136764 1.05807579 1.06496394 1.07201564 1.07918715 1.08641732\n",
      " 1.09363878 1.10079086 1.10782433 1.11470675]\n",
      "20 day output [[1.1214254]]\n",
      "21 day input [0.92531453 0.92172591 0.96474711 0.97572406 0.99159841 0.96972895\n",
      " 0.97614625 0.96795575 1.         0.99016297 0.99050072 0.96538039\n",
      " 0.98488559 0.97086887 0.94026007 0.87748037 0.83483915 0.85413324\n",
      " 0.77336823 0.77269273 0.88014017 0.84007431 0.89673225 0.85527316\n",
      " 0.83884995 0.74233725 0.82327113 0.78143207 0.6665963  0.7921557\n",
      " 0.64118044 0.68614371 0.66001013 0.65203074 0.58642236 0.56586169\n",
      " 0.66089673 0.65515494 0.70970193 0.66452757 0.69437642 0.69218104\n",
      " 0.63569197 0.65266402 0.63780292 0.7267162  0.71388162 0.74191506\n",
      " 0.75002111 0.77222832 0.83049059 0.8194292  0.8289707  0.8125475\n",
      " 0.78776492 0.75162543 0.78426074 0.77974331 0.81326522 0.8141096\n",
      " 0.79473106 0.83336148 0.85898843 0.83901883 0.85628641 0.87486279\n",
      " 0.88782403 0.90095415 0.92793211 0.948535   0.93333615 0.91746179\n",
      " 0.92544119 0.91771511 0.9483239  0.94064004 0.96635143 0.9563033\n",
      " 0.96491598 0.98042643 0.98748404 0.99552065 1.00362158 1.01131928\n",
      " 1.01853573 1.02535987 1.03192556 1.03837061 1.04481936 1.05136764\n",
      " 1.05807579 1.06496394 1.07201564 1.07918715 1.08641732 1.09363878\n",
      " 1.10079086 1.10782433 1.11470675 1.12142539]\n",
      "21 day output [[1.1279815]]\n",
      "22 day input [0.92172591 0.96474711 0.97572406 0.99159841 0.96972895 0.97614625\n",
      " 0.96795575 1.         0.99016297 0.99050072 0.96538039 0.98488559\n",
      " 0.97086887 0.94026007 0.87748037 0.83483915 0.85413324 0.77336823\n",
      " 0.77269273 0.88014017 0.84007431 0.89673225 0.85527316 0.83884995\n",
      " 0.74233725 0.82327113 0.78143207 0.6665963  0.7921557  0.64118044\n",
      " 0.68614371 0.66001013 0.65203074 0.58642236 0.56586169 0.66089673\n",
      " 0.65515494 0.70970193 0.66452757 0.69437642 0.69218104 0.63569197\n",
      " 0.65266402 0.63780292 0.7267162  0.71388162 0.74191506 0.75002111\n",
      " 0.77222832 0.83049059 0.8194292  0.8289707  0.8125475  0.78776492\n",
      " 0.75162543 0.78426074 0.77974331 0.81326522 0.8141096  0.79473106\n",
      " 0.83336148 0.85898843 0.83901883 0.85628641 0.87486279 0.88782403\n",
      " 0.90095415 0.92793211 0.948535   0.93333615 0.91746179 0.92544119\n",
      " 0.91771511 0.9483239  0.94064004 0.96635143 0.9563033  0.96491598\n",
      " 0.98042643 0.98748404 0.99552065 1.00362158 1.01131928 1.01853573\n",
      " 1.02535987 1.03192556 1.03837061 1.04481936 1.05136764 1.05807579\n",
      " 1.06496394 1.07201564 1.07918715 1.08641732 1.09363878 1.10079086\n",
      " 1.10782433 1.11470675 1.12142539 1.12798154]\n",
      "22 day output [[1.1343905]]\n",
      "23 day input [0.96474711 0.97572406 0.99159841 0.96972895 0.97614625 0.96795575\n",
      " 1.         0.99016297 0.99050072 0.96538039 0.98488559 0.97086887\n",
      " 0.94026007 0.87748037 0.83483915 0.85413324 0.77336823 0.77269273\n",
      " 0.88014017 0.84007431 0.89673225 0.85527316 0.83884995 0.74233725\n",
      " 0.82327113 0.78143207 0.6665963  0.7921557  0.64118044 0.68614371\n",
      " 0.66001013 0.65203074 0.58642236 0.56586169 0.66089673 0.65515494\n",
      " 0.70970193 0.66452757 0.69437642 0.69218104 0.63569197 0.65266402\n",
      " 0.63780292 0.7267162  0.71388162 0.74191506 0.75002111 0.77222832\n",
      " 0.83049059 0.8194292  0.8289707  0.8125475  0.78776492 0.75162543\n",
      " 0.78426074 0.77974331 0.81326522 0.8141096  0.79473106 0.83336148\n",
      " 0.85898843 0.83901883 0.85628641 0.87486279 0.88782403 0.90095415\n",
      " 0.92793211 0.948535   0.93333615 0.91746179 0.92544119 0.91771511\n",
      " 0.9483239  0.94064004 0.96635143 0.9563033  0.96491598 0.98042643\n",
      " 0.98748404 0.99552065 1.00362158 1.01131928 1.01853573 1.02535987\n",
      " 1.03192556 1.03837061 1.04481936 1.05136764 1.05807579 1.06496394\n",
      " 1.07201564 1.07918715 1.08641732 1.09363878 1.10079086 1.10782433\n",
      " 1.11470675 1.12142539 1.12798154 1.13439047]\n",
      "23 day output [[1.1406747]]\n",
      "24 day input [0.97572406 0.99159841 0.96972895 0.97614625 0.96795575 1.\n",
      " 0.99016297 0.99050072 0.96538039 0.98488559 0.97086887 0.94026007\n",
      " 0.87748037 0.83483915 0.85413324 0.77336823 0.77269273 0.88014017\n",
      " 0.84007431 0.89673225 0.85527316 0.83884995 0.74233725 0.82327113\n",
      " 0.78143207 0.6665963  0.7921557  0.64118044 0.68614371 0.66001013\n",
      " 0.65203074 0.58642236 0.56586169 0.66089673 0.65515494 0.70970193\n",
      " 0.66452757 0.69437642 0.69218104 0.63569197 0.65266402 0.63780292\n",
      " 0.7267162  0.71388162 0.74191506 0.75002111 0.77222832 0.83049059\n",
      " 0.8194292  0.8289707  0.8125475  0.78776492 0.75162543 0.78426074\n",
      " 0.77974331 0.81326522 0.8141096  0.79473106 0.83336148 0.85898843\n",
      " 0.83901883 0.85628641 0.87486279 0.88782403 0.90095415 0.92793211\n",
      " 0.948535   0.93333615 0.91746179 0.92544119 0.91771511 0.9483239\n",
      " 0.94064004 0.96635143 0.9563033  0.96491598 0.98042643 0.98748404\n",
      " 0.99552065 1.00362158 1.01131928 1.01853573 1.02535987 1.03192556\n",
      " 1.03837061 1.04481936 1.05136764 1.05807579 1.06496394 1.07201564\n",
      " 1.07918715 1.08641732 1.09363878 1.10079086 1.10782433 1.11470675\n",
      " 1.12142539 1.12798154 1.13439047 1.14067471]\n",
      "24 day output [[1.1468569]]\n",
      "25 day input [0.99159841 0.96972895 0.97614625 0.96795575 1.         0.99016297\n",
      " 0.99050072 0.96538039 0.98488559 0.97086887 0.94026007 0.87748037\n",
      " 0.83483915 0.85413324 0.77336823 0.77269273 0.88014017 0.84007431\n",
      " 0.89673225 0.85527316 0.83884995 0.74233725 0.82327113 0.78143207\n",
      " 0.6665963  0.7921557  0.64118044 0.68614371 0.66001013 0.65203074\n",
      " 0.58642236 0.56586169 0.66089673 0.65515494 0.70970193 0.66452757\n",
      " 0.69437642 0.69218104 0.63569197 0.65266402 0.63780292 0.7267162\n",
      " 0.71388162 0.74191506 0.75002111 0.77222832 0.83049059 0.8194292\n",
      " 0.8289707  0.8125475  0.78776492 0.75162543 0.78426074 0.77974331\n",
      " 0.81326522 0.8141096  0.79473106 0.83336148 0.85898843 0.83901883\n",
      " 0.85628641 0.87486279 0.88782403 0.90095415 0.92793211 0.948535\n",
      " 0.93333615 0.91746179 0.92544119 0.91771511 0.9483239  0.94064004\n",
      " 0.96635143 0.9563033  0.96491598 0.98042643 0.98748404 0.99552065\n",
      " 1.00362158 1.01131928 1.01853573 1.02535987 1.03192556 1.03837061\n",
      " 1.04481936 1.05136764 1.05807579 1.06496394 1.07201564 1.07918715\n",
      " 1.08641732 1.09363878 1.10079086 1.10782433 1.11470675 1.12142539\n",
      " 1.12798154 1.13439047 1.14067471 1.1468569 ]\n",
      "25 day output [[1.1529588]]\n",
      "26 day input [0.96972895 0.97614625 0.96795575 1.         0.99016297 0.99050072\n",
      " 0.96538039 0.98488559 0.97086887 0.94026007 0.87748037 0.83483915\n",
      " 0.85413324 0.77336823 0.77269273 0.88014017 0.84007431 0.89673225\n",
      " 0.85527316 0.83884995 0.74233725 0.82327113 0.78143207 0.6665963\n",
      " 0.7921557  0.64118044 0.68614371 0.66001013 0.65203074 0.58642236\n",
      " 0.56586169 0.66089673 0.65515494 0.70970193 0.66452757 0.69437642\n",
      " 0.69218104 0.63569197 0.65266402 0.63780292 0.7267162  0.71388162\n",
      " 0.74191506 0.75002111 0.77222832 0.83049059 0.8194292  0.8289707\n",
      " 0.8125475  0.78776492 0.75162543 0.78426074 0.77974331 0.81326522\n",
      " 0.8141096  0.79473106 0.83336148 0.85898843 0.83901883 0.85628641\n",
      " 0.87486279 0.88782403 0.90095415 0.92793211 0.948535   0.93333615\n",
      " 0.91746179 0.92544119 0.91771511 0.9483239  0.94064004 0.96635143\n",
      " 0.9563033  0.96491598 0.98042643 0.98748404 0.99552065 1.00362158\n",
      " 1.01131928 1.01853573 1.02535987 1.03192556 1.03837061 1.04481936\n",
      " 1.05136764 1.05807579 1.06496394 1.07201564 1.07918715 1.08641732\n",
      " 1.09363878 1.10079086 1.10782433 1.11470675 1.12142539 1.12798154\n",
      " 1.13439047 1.14067471 1.1468569  1.15295875]\n",
      "26 day output [[1.1589956]]\n",
      "27 day input [0.97614625 0.96795575 1.         0.99016297 0.99050072 0.96538039\n",
      " 0.98488559 0.97086887 0.94026007 0.87748037 0.83483915 0.85413324\n",
      " 0.77336823 0.77269273 0.88014017 0.84007431 0.89673225 0.85527316\n",
      " 0.83884995 0.74233725 0.82327113 0.78143207 0.6665963  0.7921557\n",
      " 0.64118044 0.68614371 0.66001013 0.65203074 0.58642236 0.56586169\n",
      " 0.66089673 0.65515494 0.70970193 0.66452757 0.69437642 0.69218104\n",
      " 0.63569197 0.65266402 0.63780292 0.7267162  0.71388162 0.74191506\n",
      " 0.75002111 0.77222832 0.83049059 0.8194292  0.8289707  0.8125475\n",
      " 0.78776492 0.75162543 0.78426074 0.77974331 0.81326522 0.8141096\n",
      " 0.79473106 0.83336148 0.85898843 0.83901883 0.85628641 0.87486279\n",
      " 0.88782403 0.90095415 0.92793211 0.948535   0.93333615 0.91746179\n",
      " 0.92544119 0.91771511 0.9483239  0.94064004 0.96635143 0.9563033\n",
      " 0.96491598 0.98042643 0.98748404 0.99552065 1.00362158 1.01131928\n",
      " 1.01853573 1.02535987 1.03192556 1.03837061 1.04481936 1.05136764\n",
      " 1.05807579 1.06496394 1.07201564 1.07918715 1.08641732 1.09363878\n",
      " 1.10079086 1.10782433 1.11470675 1.12142539 1.12798154 1.13439047\n",
      " 1.14067471 1.1468569  1.15295875 1.15899563]\n",
      "27 day output [[1.1649758]]\n",
      "28 day input [0.96795575 1.         0.99016297 0.99050072 0.96538039 0.98488559\n",
      " 0.97086887 0.94026007 0.87748037 0.83483915 0.85413324 0.77336823\n",
      " 0.77269273 0.88014017 0.84007431 0.89673225 0.85527316 0.83884995\n",
      " 0.74233725 0.82327113 0.78143207 0.6665963  0.7921557  0.64118044\n",
      " 0.68614371 0.66001013 0.65203074 0.58642236 0.56586169 0.66089673\n",
      " 0.65515494 0.70970193 0.66452757 0.69437642 0.69218104 0.63569197\n",
      " 0.65266402 0.63780292 0.7267162  0.71388162 0.74191506 0.75002111\n",
      " 0.77222832 0.83049059 0.8194292  0.8289707  0.8125475  0.78776492\n",
      " 0.75162543 0.78426074 0.77974331 0.81326522 0.8141096  0.79473106\n",
      " 0.83336148 0.85898843 0.83901883 0.85628641 0.87486279 0.88782403\n",
      " 0.90095415 0.92793211 0.948535   0.93333615 0.91746179 0.92544119\n",
      " 0.91771511 0.9483239  0.94064004 0.96635143 0.9563033  0.96491598\n",
      " 0.98042643 0.98748404 0.99552065 1.00362158 1.01131928 1.01853573\n",
      " 1.02535987 1.03192556 1.03837061 1.04481936 1.05136764 1.05807579\n",
      " 1.06496394 1.07201564 1.07918715 1.08641732 1.09363878 1.10079086\n",
      " 1.10782433 1.11470675 1.12142539 1.12798154 1.13439047 1.14067471\n",
      " 1.1468569  1.15295875 1.15899563 1.16497576]\n",
      "28 day output [[1.1708989]]\n",
      "29 day input [1.         0.99016297 0.99050072 0.96538039 0.98488559 0.97086887\n",
      " 0.94026007 0.87748037 0.83483915 0.85413324 0.77336823 0.77269273\n",
      " 0.88014017 0.84007431 0.89673225 0.85527316 0.83884995 0.74233725\n",
      " 0.82327113 0.78143207 0.6665963  0.7921557  0.64118044 0.68614371\n",
      " 0.66001013 0.65203074 0.58642236 0.56586169 0.66089673 0.65515494\n",
      " 0.70970193 0.66452757 0.69437642 0.69218104 0.63569197 0.65266402\n",
      " 0.63780292 0.7267162  0.71388162 0.74191506 0.75002111 0.77222832\n",
      " 0.83049059 0.8194292  0.8289707  0.8125475  0.78776492 0.75162543\n",
      " 0.78426074 0.77974331 0.81326522 0.8141096  0.79473106 0.83336148\n",
      " 0.85898843 0.83901883 0.85628641 0.87486279 0.88782403 0.90095415\n",
      " 0.92793211 0.948535   0.93333615 0.91746179 0.92544119 0.91771511\n",
      " 0.9483239  0.94064004 0.96635143 0.9563033  0.96491598 0.98042643\n",
      " 0.98748404 0.99552065 1.00362158 1.01131928 1.01853573 1.02535987\n",
      " 1.03192556 1.03837061 1.04481936 1.05136764 1.05807579 1.06496394\n",
      " 1.07201564 1.07918715 1.08641732 1.09363878 1.10079086 1.10782433\n",
      " 1.11470675 1.12142539 1.12798154 1.13439047 1.14067471 1.1468569\n",
      " 1.15295875 1.15899563 1.16497576 1.17089891]\n",
      "29 day output [[1.1767591]]\n",
      "[[0.9804264307022095], [0.9874840378761292], [0.9955206513404846], [1.0036215782165527], [1.0113192796707153], [1.0185357332229614], [1.025359869003296], [1.0319255590438843], [1.0383706092834473], [1.0448193550109863], [1.0513676404953003], [1.0580757856369019], [1.064963936805725], [1.072015643119812], [1.0791871547698975], [1.086417317390442], [1.0936387777328491], [1.1007908582687378], [1.1078243255615234], [1.1147067546844482], [1.1214253902435303], [1.1279815435409546], [1.1343904733657837], [1.1406747102737427], [1.1468569040298462], [1.1529587507247925], [1.1589956283569336], [1.1649757623672485], [1.1708989143371582], [1.176759123802185]]\n"
     ]
    }
   ],
   "source": [
    "from numpy import array\n",
    "\n",
    "lst_output=[]\n",
    "n_steps=100\n",
    "i=0\n",
    "while(i<30):\n",
    "    \n",
    "    if(len(temp_input)>100):\n",
    "        #print(temp_input)\n",
    "        X_input=np.array(temp_input[1:])\n",
    "        print(\"{} day input {}\".format(i,X_input))\n",
    "        X_input=X_input.reshape(1,-1)\n",
    "        X_input = X_input.reshape((1, n_steps, 1))\n",
    "        #print(x_input)\n",
    "        yhat = model.predict(X_input, verbose=0)\n",
    "        print(\"{} day output {}\".format(i,yhat))\n",
    "        temp_input.extend(yhat[0].tolist())\n",
    "        temp_input=temp_input[1:]\n",
    "        #print(temp_input)\n",
    "        lst_output.extend(yhat.tolist())\n",
    "        i=i+1\n",
    "    else:\n",
    "        X_input = X_input.reshape((1, n_steps,1))\n",
    "        yhat = model.predict(X_input, verbose=0)\n",
    "        print(yhat[0])\n",
    "        temp_input.extend(yhat[0].tolist())\n",
    "        print(len(temp_input))\n",
    "        lst_output.extend(yhat.tolist())\n",
    "        i=i+1\n",
    "    \n",
    "\n",
    "print(lst_output)"
   ]
  },
  {
   "cell_type": "code",
   "execution_count": 90,
   "id": "321f6d7e-2e98-426b-96f0-933462eab7d4",
   "metadata": {},
   "outputs": [
    {
     "data": {
      "text/plain": [
       "(1258, 1)"
      ]
     },
     "execution_count": 90,
     "metadata": {},
     "output_type": "execute_result"
    }
   ],
   "source": [
    "df1.shape"
   ]
  },
  {
   "cell_type": "code",
   "execution_count": 86,
   "id": "b14eb344-52df-4f86-a864-ad33446f3e34",
   "metadata": {},
   "outputs": [],
   "source": [
    "day_new=np.arange(1,101)\n",
    "day_pred=np.arange(101,131)"
   ]
  },
  {
   "cell_type": "code",
   "execution_count": 88,
   "id": "75bd3b79-76c1-448b-a24c-4351afc21dd1",
   "metadata": {},
   "outputs": [
    {
     "data": {
      "text/plain": [
       "[<matplotlib.lines.Line2D at 0x17a0f50a0>]"
      ]
     },
     "execution_count": 88,
     "metadata": {},
     "output_type": "execute_result"
    },
    {
     "data": {
      "image/png": "[encoded data removed]",
      "text/plain": [
       "<Figure size 640x480 with 1 Axes>"
      ]
     },
     "metadata": {},
     "output_type": "display_data"
    }
   ],
   "source": [
    "plt.plot(day_new,scaler.inverse_transform(df1[1158:]))\n",
    "plt.plot(day_pred,scaler.inverse_transform(lst_output))"
   ]
  },
  {
   "cell_type": "code",
   "execution_count": null,
   "id": "6f054ecf-15e2-478c-b424-6bc7fcacdb0d",
   "metadata": {},
   "outputs": [],
   "source": []
  }
 ],
 "metadata": {
  "kernelspec": {
   "display_name": "Python [conda env:base] *",
   "language": "python",
   "name": "conda-base-py"
  },
  "language_info": {
   "codemirror_mode": {
    "name": "ipython",
    "version": 3
   },
   "file_extension": ".py",
   "mimetype": "text/x-python",
   "name": "python",
   "nbconvert_exporter": "python",
   "pygments_lexer": "ipython3",
   "version": "3.12.7"
  }
 },
 "nbformat": 4,
 "nbformat_minor": 5
}
